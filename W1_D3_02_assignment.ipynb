{
  "nbformat": 4,
  "nbformat_minor": 0,
  "metadata": {
    "colab": {
      "name": "W1_D3_02_assignment.ipynb",
      "provenance": [],
      "collapsed_sections": [],
      "include_colab_link": true
    },
    "kernelspec": {
      "name": "python3",
      "display_name": "Python 3"
    }
  },
  "cells": [
    {
      "cell_type": "markdown",
      "metadata": {
        "id": "view-in-github",
        "colab_type": "text"
      },
      "source": [
        "<a href=\"https://colab.research.google.com/github/Nadda1004/Intro_Machine_learning/blob/main/W1_D3_02_assignment.ipynb\" target=\"_parent\"><img src=\"https://colab.research.google.com/assets/colab-badge.svg\" alt=\"Open In Colab\"/></a>"
      ]
    },
    {
      "cell_type": "markdown",
      "metadata": {
        "id": "UvXvsdh1UViv"
      },
      "source": [
        "1. Read in the dataset from the below link with pandas..."
      ]
    },
    {
      "cell_type": "code",
      "metadata": {
        "id": "xHi7ek_dURBw"
      },
      "source": [
        "link = \"https://raw.githubusercontent.com/gumdropsteve/datasets/master/dog_or_horse.csv\"\r\n"
      ],
      "execution_count": 1,
      "outputs": []
    },
    {
      "cell_type": "markdown",
      "metadata": {
        "id": "zK5QLawkUbGO"
      },
      "source": [
        "2. Show me some of the data..."
      ]
    },
    {
      "cell_type": "code",
      "metadata": {
        "id": "-D-9M-1CUhD9"
      },
      "source": [
        "import pandas as pd\r\n",
        "import matplotlib.pyplot as plt\r\n",
        "import numpy as np\r\n",
        "import seaborn as sns"
      ],
      "execution_count": 2,
      "outputs": []
    },
    {
      "cell_type": "code",
      "metadata": {
        "id": "gv96u_cvXjna",
        "colab": {
          "base_uri": "https://localhost:8080/",
          "height": 197
        },
        "outputId": "3b84879e-13a5-4d56-fe0e-a1528e507ca4"
      },
      "source": [
        "df = pd.read_csv(link)\r\n",
        "df.head()"
      ],
      "execution_count": 3,
      "outputs": [
        {
          "output_type": "execute_result",
          "data": {
            "text/html": [
              "<div>\n",
              "<style scoped>\n",
              "    .dataframe tbody tr th:only-of-type {\n",
              "        vertical-align: middle;\n",
              "    }\n",
              "\n",
              "    .dataframe tbody tr th {\n",
              "        vertical-align: top;\n",
              "    }\n",
              "\n",
              "    .dataframe thead th {\n",
              "        text-align: right;\n",
              "    }\n",
              "</style>\n",
              "<table border=\"1\" class=\"dataframe\">\n",
              "  <thead>\n",
              "    <tr style=\"text-align: right;\">\n",
              "      <th></th>\n",
              "      <th>height</th>\n",
              "      <th>weight</th>\n",
              "      <th>target</th>\n",
              "      <th>type</th>\n",
              "    </tr>\n",
              "  </thead>\n",
              "  <tbody>\n",
              "    <tr>\n",
              "      <th>0</th>\n",
              "      <td>27.0</td>\n",
              "      <td>71.0</td>\n",
              "      <td>0.0</td>\n",
              "      <td>dog</td>\n",
              "    </tr>\n",
              "    <tr>\n",
              "      <th>1</th>\n",
              "      <td>27.0</td>\n",
              "      <td>92.0</td>\n",
              "      <td>0.0</td>\n",
              "      <td>dog</td>\n",
              "    </tr>\n",
              "    <tr>\n",
              "      <th>2</th>\n",
              "      <td>32.0</td>\n",
              "      <td>47.0</td>\n",
              "      <td>0.0</td>\n",
              "      <td>dog</td>\n",
              "    </tr>\n",
              "    <tr>\n",
              "      <th>3</th>\n",
              "      <td>30.0</td>\n",
              "      <td>90.0</td>\n",
              "      <td>0.0</td>\n",
              "      <td>dog</td>\n",
              "    </tr>\n",
              "    <tr>\n",
              "      <th>4</th>\n",
              "      <td>28.0</td>\n",
              "      <td>91.0</td>\n",
              "      <td>0.0</td>\n",
              "      <td>dog</td>\n",
              "    </tr>\n",
              "  </tbody>\n",
              "</table>\n",
              "</div>"
            ],
            "text/plain": [
              "   height  weight  target type\n",
              "0    27.0    71.0     0.0  dog\n",
              "1    27.0    92.0     0.0  dog\n",
              "2    32.0    47.0     0.0  dog\n",
              "3    30.0    90.0     0.0  dog\n",
              "4    28.0    91.0     0.0  dog"
            ]
          },
          "metadata": {
            "tags": []
          },
          "execution_count": 3
        }
      ]
    },
    {
      "cell_type": "markdown",
      "metadata": {
        "id": "FN8j2v8DjQ08"
      },
      "source": [
        "# EDA "
      ]
    },
    {
      "cell_type": "code",
      "metadata": {
        "colab": {
          "base_uri": "https://localhost:8080/"
        },
        "id": "rlpGeSkvjIib",
        "outputId": "b9cf6fc9-e471-41fd-8b0d-b3e0752cefcf"
      },
      "source": [
        "# shape \r\n",
        "df.shape"
      ],
      "execution_count": 4,
      "outputs": [
        {
          "output_type": "execute_result",
          "data": {
            "text/plain": [
              "(200, 4)"
            ]
          },
          "metadata": {
            "tags": []
          },
          "execution_count": 4
        }
      ]
    },
    {
      "cell_type": "code",
      "metadata": {
        "colab": {
          "base_uri": "https://localhost:8080/"
        },
        "id": "7uXG249qjK6I",
        "outputId": "a9672a88-0d8d-4ebd-fabe-76b17f89a08e"
      },
      "source": [
        "# columns info\r\n",
        "df.info()"
      ],
      "execution_count": 5,
      "outputs": [
        {
          "output_type": "stream",
          "text": [
            "<class 'pandas.core.frame.DataFrame'>\n",
            "RangeIndex: 200 entries, 0 to 199\n",
            "Data columns (total 4 columns):\n",
            " #   Column  Non-Null Count  Dtype  \n",
            "---  ------  --------------  -----  \n",
            " 0   height  200 non-null    float64\n",
            " 1   weight  200 non-null    float64\n",
            " 2   target  200 non-null    float64\n",
            " 3   type    200 non-null    object \n",
            "dtypes: float64(3), object(1)\n",
            "memory usage: 6.4+ KB\n"
          ],
          "name": "stdout"
        }
      ]
    },
    {
      "cell_type": "code",
      "metadata": {
        "colab": {
          "base_uri": "https://localhost:8080/"
        },
        "id": "tfz8jFShbKc6",
        "outputId": "ee2e0c77-11e0-4afc-dddb-c73d63bb2e60"
      },
      "source": [
        "# target values and number of rows\r\n",
        "df.type.value_counts()"
      ],
      "execution_count": 6,
      "outputs": [
        {
          "output_type": "execute_result",
          "data": {
            "text/plain": [
              "dog      100\n",
              "horse    100\n",
              "Name: type, dtype: int64"
            ]
          },
          "metadata": {
            "tags": []
          },
          "execution_count": 6
        }
      ]
    },
    {
      "cell_type": "code",
      "metadata": {
        "colab": {
          "base_uri": "https://localhost:8080/"
        },
        "id": "6NRCUgRNdODL",
        "outputId": "a2c018bf-67bf-4f3a-ca67-8d4398164043"
      },
      "source": [
        "df.target.value_counts()"
      ],
      "execution_count": 7,
      "outputs": [
        {
          "output_type": "execute_result",
          "data": {
            "text/plain": [
              "1.0    100\n",
              "0.0    100\n",
              "Name: target, dtype: int64"
            ]
          },
          "metadata": {
            "tags": []
          },
          "execution_count": 7
        }
      ]
    },
    {
      "cell_type": "code",
      "metadata": {
        "colab": {
          "base_uri": "https://localhost:8080/",
          "height": 567
        },
        "id": "fHGzaZeRcbad",
        "outputId": "e7a7d8bd-de70-4323-b935-959731fdff46"
      },
      "source": [
        "plt.figure(figsize=(9,9))\r\n",
        "sns.countplot(x = df.type).set(title = 'Number of dogs and hourses');"
      ],
      "execution_count": 8,
      "outputs": [
        {
          "output_type": "display_data",
          "data": {
            "image/png": "[encoded data removed]",
            "text/plain": [
              "<Figure size 648x648 with 1 Axes>"
            ]
          },
          "metadata": {
            "tags": [],
            "needs_background": "light"
          }
        }
      ]
    },
    {
      "cell_type": "code",
      "metadata": {
        "colab": {
          "base_uri": "https://localhost:8080/",
          "height": 567
        },
        "id": "rZCzgB2Gbd-M",
        "outputId": "873c990e-fd02-43b2-feef-52d34d9db757"
      },
      "source": [
        "plt.figure(figsize=(9,9))\r\n",
        "sns.scatterplot(x=df.height , y = df.weight , hue=df.type).set(title = 'Relationship Between Height and Weight For Both Animals');"
      ],
      "execution_count": 9,
      "outputs": [
        {
          "output_type": "display_data",
          "data": {
            "image/png": "[encoded data removed]",
            "text/plain": [
              "<Figure size 648x648 with 1 Axes>"
            ]
          },
          "metadata": {
            "tags": [],
            "needs_background": "light"
          }
        }
      ]
    },
    {
      "cell_type": "markdown",
      "metadata": {
        "id": "p5ypbPmpUhsJ"
      },
      "source": [
        "3. Split the data into training and testing sets ([Help](https://scikit-learn.org/stable/modules/generated/sklearn.model_selection.train_test_split.html))"
      ]
    },
    {
      "cell_type": "code",
      "metadata": {
        "id": "kq-_ChbeUwgb"
      },
      "source": [
        "# all the column excpet the target\r\n",
        "x = df[['height' , 'weight']]\r\n",
        "#just the target\r\n",
        "y = df['target']"
      ],
      "execution_count": 10,
      "outputs": []
    },
    {
      "cell_type": "code",
      "metadata": {
        "id": "mpnMyEfKdeQn"
      },
      "source": [
        "from sklearn.model_selection import train_test_split\r\n",
        "X_train, X_test, y_train, y_test = train_test_split(x, y, test_size=0.3, random_state=42)"
      ],
      "execution_count": 11,
      "outputs": []
    },
    {
      "cell_type": "code",
      "metadata": {
        "colab": {
          "base_uri": "https://localhost:8080/"
        },
        "id": "w5a8pvh3d78B",
        "outputId": "1ec71105-3351-4e69-f35d-a300204ead04"
      },
      "source": [
        "X_train.shape"
      ],
      "execution_count": 12,
      "outputs": [
        {
          "output_type": "execute_result",
          "data": {
            "text/plain": [
              "(140, 2)"
            ]
          },
          "metadata": {
            "tags": []
          },
          "execution_count": 12
        }
      ]
    },
    {
      "cell_type": "code",
      "metadata": {
        "colab": {
          "base_uri": "https://localhost:8080/"
        },
        "id": "OwtGLC9Yd_4R",
        "outputId": "335597f8-af92-4b34-b7a2-404496bf64de"
      },
      "source": [
        "X_test.shape"
      ],
      "execution_count": 13,
      "outputs": [
        {
          "output_type": "execute_result",
          "data": {
            "text/plain": [
              "(60, 2)"
            ]
          },
          "metadata": {
            "tags": []
          },
          "execution_count": 13
        }
      ]
    },
    {
      "cell_type": "code",
      "metadata": {
        "colab": {
          "base_uri": "https://localhost:8080/"
        },
        "id": "HcUW6CELeCOH",
        "outputId": "788894a4-87bc-4166-8306-55a620160a3b"
      },
      "source": [
        "y_train.shape"
      ],
      "execution_count": 14,
      "outputs": [
        {
          "output_type": "execute_result",
          "data": {
            "text/plain": [
              "(140,)"
            ]
          },
          "metadata": {
            "tags": []
          },
          "execution_count": 14
        }
      ]
    },
    {
      "cell_type": "code",
      "metadata": {
        "colab": {
          "base_uri": "https://localhost:8080/"
        },
        "id": "Ctqy6n7LeEjl",
        "outputId": "16d52d5d-cabd-411a-d48e-ee2c6d4fac43"
      },
      "source": [
        "y_test.shape"
      ],
      "execution_count": 15,
      "outputs": [
        {
          "output_type": "execute_result",
          "data": {
            "text/plain": [
              "(60,)"
            ]
          },
          "metadata": {
            "tags": []
          },
          "execution_count": 15
        }
      ]
    },
    {
      "cell_type": "code",
      "metadata": {
        "colab": {
          "base_uri": "https://localhost:8080/",
          "height": 197
        },
        "id": "dlitAX1Gm7YN",
        "outputId": "dedc2b82-2a6e-4e35-9732-0601b8c6b752"
      },
      "source": [
        "X_train.head()"
      ],
      "execution_count": 16,
      "outputs": [
        {
          "output_type": "execute_result",
          "data": {
            "text/html": [
              "<div>\n",
              "<style scoped>\n",
              "    .dataframe tbody tr th:only-of-type {\n",
              "        vertical-align: middle;\n",
              "    }\n",
              "\n",
              "    .dataframe tbody tr th {\n",
              "        vertical-align: top;\n",
              "    }\n",
              "\n",
              "    .dataframe thead th {\n",
              "        text-align: right;\n",
              "    }\n",
              "</style>\n",
              "<table border=\"1\" class=\"dataframe\">\n",
              "  <thead>\n",
              "    <tr style=\"text-align: right;\">\n",
              "      <th></th>\n",
              "      <th>height</th>\n",
              "      <th>weight</th>\n",
              "    </tr>\n",
              "  </thead>\n",
              "  <tbody>\n",
              "    <tr>\n",
              "      <th>169</th>\n",
              "      <td>64.0</td>\n",
              "      <td>128.0</td>\n",
              "    </tr>\n",
              "    <tr>\n",
              "      <th>97</th>\n",
              "      <td>41.0</td>\n",
              "      <td>110.0</td>\n",
              "    </tr>\n",
              "    <tr>\n",
              "      <th>31</th>\n",
              "      <td>35.0</td>\n",
              "      <td>68.0</td>\n",
              "    </tr>\n",
              "    <tr>\n",
              "      <th>12</th>\n",
              "      <td>35.0</td>\n",
              "      <td>59.0</td>\n",
              "    </tr>\n",
              "    <tr>\n",
              "      <th>35</th>\n",
              "      <td>27.0</td>\n",
              "      <td>54.0</td>\n",
              "    </tr>\n",
              "  </tbody>\n",
              "</table>\n",
              "</div>"
            ],
            "text/plain": [
              "     height  weight\n",
              "169    64.0   128.0\n",
              "97     41.0   110.0\n",
              "31     35.0    68.0\n",
              "12     35.0    59.0\n",
              "35     27.0    54.0"
            ]
          },
          "metadata": {
            "tags": []
          },
          "execution_count": 16
        }
      ]
    },
    {
      "cell_type": "code",
      "metadata": {
        "colab": {
          "base_uri": "https://localhost:8080/"
        },
        "id": "1tTVUh1CnBcL",
        "outputId": "a996453d-c92f-4c74-aacc-0b76c9959928"
      },
      "source": [
        "y_train.head()"
      ],
      "execution_count": 17,
      "outputs": [
        {
          "output_type": "execute_result",
          "data": {
            "text/plain": [
              "169    1.0\n",
              "97     0.0\n",
              "31     0.0\n",
              "12     0.0\n",
              "35     0.0\n",
              "Name: target, dtype: float64"
            ]
          },
          "metadata": {
            "tags": []
          },
          "execution_count": 17
        }
      ]
    },
    {
      "cell_type": "markdown",
      "metadata": {
        "id": "QT8_kZqKU4aR"
      },
      "source": [
        "4. Make and fit a simple logistic regression model... (you shouldn't need to change anything here)"
      ]
    },
    {
      "cell_type": "code",
      "metadata": {
        "id": "l4ppAUIjVA2T",
        "colab": {
          "base_uri": "https://localhost:8080/"
        },
        "outputId": "b5af6682-de76-4a0b-b60a-15b75833085e"
      },
      "source": [
        "from sklearn.linear_model import LogisticRegression\r\n",
        "\r\n",
        "model = LogisticRegression()\r\n",
        "\r\n",
        "model.fit(X_train, y_train)"
      ],
      "execution_count": 18,
      "outputs": [
        {
          "output_type": "execute_result",
          "data": {
            "text/plain": [
              "LogisticRegression(C=1.0, class_weight=None, dual=False, fit_intercept=True,\n",
              "                   intercept_scaling=1, l1_ratio=None, max_iter=100,\n",
              "                   multi_class='auto', n_jobs=None, penalty='l2',\n",
              "                   random_state=None, solver='lbfgs', tol=0.0001, verbose=0,\n",
              "                   warm_start=False)"
            ]
          },
          "metadata": {
            "tags": []
          },
          "execution_count": 18
        }
      ]
    },
    {
      "cell_type": "markdown",
      "metadata": {
        "id": "0K31MqISVkFL"
      },
      "source": [
        "5. Make some predictions..."
      ]
    },
    {
      "cell_type": "code",
      "metadata": {
        "id": "jVjd90f0VZbG",
        "colab": {
          "base_uri": "https://localhost:8080/"
        },
        "outputId": "cf7c3952-afec-45ef-ad3e-64a8bf658bce"
      },
      "source": [
        "model.predict(X_test)"
      ],
      "execution_count": 19,
      "outputs": [
        {
          "output_type": "execute_result",
          "data": {
            "text/plain": [
              "array([0., 0., 0., 1., 1., 1., 0., 1., 1., 0., 0., 1., 1., 0., 1., 1., 0.,\n",
              "       1., 0., 0., 1., 0., 1., 0., 0., 0., 0., 0., 1., 1., 0., 0., 0., 0.,\n",
              "       1., 1., 1., 1., 1., 0., 0., 1., 0., 0., 1., 1., 0., 0., 1., 0., 1.,\n",
              "       1., 0., 1., 0., 0., 1., 1., 1., 1.])"
            ]
          },
          "metadata": {
            "tags": []
          },
          "execution_count": 19
        }
      ]
    },
    {
      "cell_type": "code",
      "metadata": {
        "id": "T7jnK-6qVqTb"
      },
      "source": [
        "# save them as variable `preds`\r\n",
        "preds = model.predict(X_test)"
      ],
      "execution_count": 20,
      "outputs": []
    },
    {
      "cell_type": "markdown",
      "metadata": {
        "id": "9UaABA0uV2F9"
      },
      "source": [
        "6. What's the precision of the model? (Hint: Google 'sklearn precision')"
      ]
    },
    {
      "cell_type": "code",
      "metadata": {
        "id": "yPAVz57YV7Gh"
      },
      "source": [
        "from sklearn.metrics import *"
      ],
      "execution_count": 21,
      "outputs": []
    },
    {
      "cell_type": "code",
      "metadata": {
        "colab": {
          "base_uri": "https://localhost:8080/"
        },
        "id": "9pH_6Iwmkinh",
        "outputId": "64e2d16f-737e-41c7-f414-cdd8e5d87395"
      },
      "source": [
        "precision_score(y_test ,preds)"
      ],
      "execution_count": 22,
      "outputs": [
        {
          "output_type": "execute_result",
          "data": {
            "text/plain": [
              "0.9333333333333333"
            ]
          },
          "metadata": {
            "tags": []
          },
          "execution_count": 22
        }
      ]
    },
    {
      "cell_type": "markdown",
      "metadata": {
        "id": "h9324OB2WCo7"
      },
      "source": [
        "7. What's the recall of the model?"
      ]
    },
    {
      "cell_type": "code",
      "metadata": {
        "id": "5CsuKBsPWE22",
        "colab": {
          "base_uri": "https://localhost:8080/"
        },
        "outputId": "9feb354a-932d-42f6-c7b0-3531aa811e6b"
      },
      "source": [
        "recall_score(y_test,preds)"
      ],
      "execution_count": 23,
      "outputs": [
        {
          "output_type": "execute_result",
          "data": {
            "text/plain": [
              "0.9655172413793104"
            ]
          },
          "metadata": {
            "tags": []
          },
          "execution_count": 23
        }
      ]
    },
    {
      "cell_type": "markdown",
      "metadata": {
        "id": "WZOP7aLEWIIn"
      },
      "source": [
        "8. What's the mean sqared error of the model?"
      ]
    },
    {
      "cell_type": "code",
      "metadata": {
        "id": "eYK7TWeDWLek",
        "colab": {
          "base_uri": "https://localhost:8080/"
        },
        "outputId": "7fcd663f-4789-4cfe-9b0a-89725c1369c8"
      },
      "source": [
        "mean_squared_error(y_test, preds)"
      ],
      "execution_count": 24,
      "outputs": [
        {
          "output_type": "execute_result",
          "data": {
            "text/plain": [
              "0.05"
            ]
          },
          "metadata": {
            "tags": []
          },
          "execution_count": 24
        }
      ]
    },
    {
      "cell_type": "markdown",
      "metadata": {
        "id": "14spFvU2WMdy"
      },
      "source": [
        "9. Run 2 different cross validations with different scoring parameters ([Help](https://scikit-learn.org/stable/modules/model_evaluation.html#scoring-parameter))\r\n",
        "\r\n",
        "Note: we're doing classification"
      ]
    },
    {
      "cell_type": "code",
      "metadata": {
        "id": "IfiXKEw_l5Jk"
      },
      "source": [
        "from sklearn.model_selection import cross_val_score"
      ],
      "execution_count": 25,
      "outputs": []
    },
    {
      "cell_type": "code",
      "metadata": {
        "id": "SQyj3rIQWdjz",
        "colab": {
          "base_uri": "https://localhost:8080/"
        },
        "outputId": "d932103e-3c89-4177-b3b5-f8760580cc21"
      },
      "source": [
        "# Accuracy\r\n",
        "cross_val_score(model, x, y, scoring='accuracy')"
      ],
      "execution_count": 26,
      "outputs": [
        {
          "output_type": "execute_result",
          "data": {
            "text/plain": [
              "array([0.95, 1.  , 1.  , 1.  , 0.6 ])"
            ]
          },
          "metadata": {
            "tags": []
          },
          "execution_count": 26
        }
      ]
    },
    {
      "cell_type": "code",
      "metadata": {
        "id": "L70ZHecxYAD9",
        "colab": {
          "base_uri": "https://localhost:8080/"
        },
        "outputId": "a432bfa7-4692-4ad1-a086-acea11f7ff26"
      },
      "source": [
        "# F1 score for binary Target (0,1)\r\n",
        "cross_val_score(model, x, y, scoring='f1')"
      ],
      "execution_count": 27,
      "outputs": [
        {
          "output_type": "execute_result",
          "data": {
            "text/plain": [
              "array([0.94736842, 1.        , 1.        , 1.        , 0.71428571])"
            ]
          },
          "metadata": {
            "tags": []
          },
          "execution_count": 27
        }
      ]
    },
    {
      "cell_type": "code",
      "metadata": {
        "colab": {
          "base_uri": "https://localhost:8080/"
        },
        "id": "DHswg3pimYA3",
        "outputId": "4f6cf525-8c7e-43b5-a4b3-bf1c51d579ce"
      },
      "source": [
        "# F1 weighted score \r\n",
        "cross_val_score(model, x, y, scoring='f1_weighted')"
      ],
      "execution_count": 28,
      "outputs": [
        {
          "output_type": "execute_result",
          "data": {
            "text/plain": [
              "array([0.94987469, 1.        , 1.        , 1.        , 0.52380952])"
            ]
          },
          "metadata": {
            "tags": []
          },
          "execution_count": 28
        }
      ]
    },
    {
      "cell_type": "markdown",
      "metadata": {
        "id": "nMAKaWPHWsx0"
      },
      "source": [
        "10. (Bonus) Throw it into a GridSearchCV... (any amount of parameters you want to test out).. of whatever you tested, what are the best parameters?\r\n",
        "\r\n",
        "Note: You can find the possible parameters to adjust in the [LogisticRegression docs](https://scikit-learn.org/stable/modules/generated/sklearn.linear_model.LogisticRegression.html)"
      ]
    },
    {
      "cell_type": "code",
      "metadata": {
        "id": "2ifacFVWW34p"
      },
      "source": [
        "from sklearn.pipeline import make_pipeline\r\n",
        "\r\n",
        "def LR(**kwargs):\r\n",
        "    return make_pipeline(LogisticRegression(**kwargs))"
      ],
      "execution_count": 29,
      "outputs": []
    },
    {
      "cell_type": "code",
      "metadata": {
        "colab": {
          "base_uri": "https://localhost:8080/"
        },
        "id": "favJqAxesU2V",
        "outputId": "0896fe12-613f-4f9f-8143-34bc0113e4db"
      },
      "source": [
        "np.array([0.005])"
      ],
      "execution_count": 30,
      "outputs": [
        {
          "output_type": "execute_result",
          "data": {
            "text/plain": [
              "array([0.005])"
            ]
          },
          "metadata": {
            "tags": []
          },
          "execution_count": 30
        }
      ]
    },
    {
      "cell_type": "code",
      "metadata": {
        "id": "7I5fHEVkXVdf"
      },
      "source": [
        "from sklearn.model_selection import GridSearchCV\r\n",
        "\r\n",
        "param_grid = {\r\n",
        "              'logisticregression__fit_intercept': [True, False],\r\n",
        "              'logisticregression__solver': ['liblinear']\r\n",
        "              }\r\n",
        "\r\n",
        "grid = GridSearchCV(LR(), param_grid, cv=7)"
      ],
      "execution_count": 31,
      "outputs": []
    },
    {
      "cell_type": "code",
      "metadata": {
        "id": "2aQxI2lOXYwU",
        "colab": {
          "base_uri": "https://localhost:8080/"
        },
        "outputId": "21f121a9-bc00-4917-a34d-a6e98d6d3793"
      },
      "source": [
        "# fit the grid\r\n",
        "grid.fit(x, y)"
      ],
      "execution_count": 32,
      "outputs": [
        {
          "output_type": "execute_result",
          "data": {
            "text/plain": [
              "GridSearchCV(cv=7, error_score=nan,\n",
              "             estimator=Pipeline(memory=None,\n",
              "                                steps=[('logisticregression',\n",
              "                                        LogisticRegression(C=1.0,\n",
              "                                                           class_weight=None,\n",
              "                                                           dual=False,\n",
              "                                                           fit_intercept=True,\n",
              "                                                           intercept_scaling=1,\n",
              "                                                           l1_ratio=None,\n",
              "                                                           max_iter=100,\n",
              "                                                           multi_class='auto',\n",
              "                                                           n_jobs=None,\n",
              "                                                           penalty='l2',\n",
              "                                                           random_state=None,\n",
              "                                                           solver='lbfgs',\n",
              "                                                           tol=0.0001,\n",
              "                                                           verbose=0,\n",
              "                                                           warm_start=False))],\n",
              "                                verbose=False),\n",
              "             iid='deprecated', n_jobs=None,\n",
              "             param_grid={'logisticregression__fit_intercept': [True, False],\n",
              "                         'logisticregression__solver': ['liblinear']},\n",
              "             pre_dispatch='2*n_jobs', refit=True, return_train_score=False,\n",
              "             scoring=None, verbose=0)"
            ]
          },
          "metadata": {
            "tags": []
          },
          "execution_count": 32
        }
      ]
    },
    {
      "cell_type": "code",
      "metadata": {
        "id": "3M86xiSjXbRq",
        "colab": {
          "base_uri": "https://localhost:8080/"
        },
        "outputId": "808f0162-c507-48b9-f21a-7120c65f32e1"
      },
      "source": [
        "# show me the best params\r\n",
        "grid.best_params_"
      ],
      "execution_count": 33,
      "outputs": [
        {
          "output_type": "execute_result",
          "data": {
            "text/plain": [
              "{'logisticregression__fit_intercept': True,\n",
              " 'logisticregression__solver': 'liblinear'}"
            ]
          },
          "metadata": {
            "tags": []
          },
          "execution_count": 33
        }
      ]
    },
    {
      "cell_type": "markdown",
      "metadata": {
        "id": "QgyiTHEHYcIr"
      },
      "source": [
        "11. (Bonus Bonus) What's your best r2_score?"
      ]
    },
    {
      "cell_type": "code",
      "metadata": {
        "id": "owe9u6fXYWPN",
        "colab": {
          "base_uri": "https://localhost:8080/"
        },
        "outputId": "4524d9d3-33b4-4833-b59b-be828a616180"
      },
      "source": [
        "from sklearn.metrics import r2_score\r\n",
        "\r\n",
        "r2_score(y_true=y_test, y_pred=preds)"
      ],
      "execution_count": 34,
      "outputs": [
        {
          "output_type": "execute_result",
          "data": {
            "text/plain": [
              "0.7997775305895439"
            ]
          },
          "metadata": {
            "tags": []
          },
          "execution_count": 34
        }
      ]
    }
  ]
}