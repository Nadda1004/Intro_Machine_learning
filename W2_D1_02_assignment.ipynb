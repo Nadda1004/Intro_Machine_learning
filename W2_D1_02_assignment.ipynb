{
  "nbformat": 4,
  "nbformat_minor": 0,
  "metadata": {
    "colab": {
      "name": "W2_D1_02_assignment.ipynb",
      "provenance": [],
      "collapsed_sections": [],
      "toc_visible": true,
      "include_colab_link": true
    },
    "kernelspec": {
      "name": "python3",
      "display_name": "Python 3"
    }
  },
  "cells": [
    {
      "cell_type": "markdown",
      "metadata": {
        "id": "view-in-github",
        "colab_type": "text"
      },
      "source": [
        "<a href=\"https://colab.research.google.com/github/Nadda1004/Intro_Machine_learning/blob/main/W2_D1_02_assignment.ipynb\" target=\"_parent\"><img src=\"https://colab.research.google.com/assets/colab-badge.svg\" alt=\"Open In Colab\"/></a>"
      ]
    },
    {
      "cell_type": "markdown",
      "metadata": {
        "id": "93NOZbbEHw0X"
      },
      "source": [
        "# Linear Regression Assignment\r\n",
        "\r\n",
        "Note: target variable is `total_amount`.\r\n",
        "\r\n",
        "\r\n",
        "1. Load in a sample of the NYC taxi dataset through this parquet link: `https://github.com/gumdropsteve/datasets/raw/master/nyc_taxi/yellow_tripdata_2019-12.parquet`"
      ]
    },
    {
      "cell_type": "code",
      "metadata": {
        "id": "5QYjsm9EHwTt"
      },
      "source": [
        "import pandas as pd\r\n",
        "import numpy as np\r\n",
        "import matplotlib as plt\r\n",
        "import seaborn as sns"
      ],
      "execution_count": 1,
      "outputs": []
    },
    {
      "cell_type": "code",
      "metadata": {
        "id": "LdR4alSHIEFd",
        "colab": {
          "base_uri": "https://localhost:8080/",
          "height": 215
        },
        "outputId": "8e1b81f4-38cc-4af2-ed88-cf06f5cac204"
      },
      "source": [
        "df = pd.read_parquet('https://github.com/gumdropsteve/datasets/raw/master/nyc_taxi/yellow_tripdata_2019-12.parquet')\r\n",
        "df.head()"
      ],
      "execution_count": 2,
      "outputs": [
        {
          "output_type": "execute_result",
          "data": {
            "text/html": [
              "<div>\n",
              "<style scoped>\n",
              "    .dataframe tbody tr th:only-of-type {\n",
              "        vertical-align: middle;\n",
              "    }\n",
              "\n",
              "    .dataframe tbody tr th {\n",
              "        vertical-align: top;\n",
              "    }\n",
              "\n",
              "    .dataframe thead th {\n",
              "        text-align: right;\n",
              "    }\n",
              "</style>\n",
              "<table border=\"1\" class=\"dataframe\">\n",
              "  <thead>\n",
              "    <tr style=\"text-align: right;\">\n",
              "      <th></th>\n",
              "      <th>VendorID</th>\n",
              "      <th>tpep_pickup_datetime</th>\n",
              "      <th>tpep_dropoff_datetime</th>\n",
              "      <th>passenger_count</th>\n",
              "      <th>trip_distance</th>\n",
              "      <th>RatecodeID</th>\n",
              "      <th>store_and_fwd_flag</th>\n",
              "      <th>PULocationID</th>\n",
              "      <th>DOLocationID</th>\n",
              "      <th>payment_type</th>\n",
              "      <th>fare_amount</th>\n",
              "      <th>extra</th>\n",
              "      <th>mta_tax</th>\n",
              "      <th>tip_amount</th>\n",
              "      <th>tolls_amount</th>\n",
              "      <th>improvement_surcharge</th>\n",
              "      <th>total_amount</th>\n",
              "      <th>congestion_surcharge</th>\n",
              "    </tr>\n",
              "  </thead>\n",
              "  <tbody>\n",
              "    <tr>\n",
              "      <th>0</th>\n",
              "      <td>1.0</td>\n",
              "      <td>2019-12-21 07:55:21</td>\n",
              "      <td>2019-12-21 08:00:18</td>\n",
              "      <td>1.0</td>\n",
              "      <td>1.20</td>\n",
              "      <td>1.0</td>\n",
              "      <td>N</td>\n",
              "      <td>148</td>\n",
              "      <td>4</td>\n",
              "      <td>2.0</td>\n",
              "      <td>6.5</td>\n",
              "      <td>2.5</td>\n",
              "      <td>0.5</td>\n",
              "      <td>0.00</td>\n",
              "      <td>0.0</td>\n",
              "      <td>0.3</td>\n",
              "      <td>9.80</td>\n",
              "      <td>2.5</td>\n",
              "    </tr>\n",
              "    <tr>\n",
              "      <th>1</th>\n",
              "      <td>1.0</td>\n",
              "      <td>2019-12-08 13:20:45</td>\n",
              "      <td>2019-12-08 13:28:32</td>\n",
              "      <td>1.0</td>\n",
              "      <td>1.10</td>\n",
              "      <td>1.0</td>\n",
              "      <td>N</td>\n",
              "      <td>113</td>\n",
              "      <td>90</td>\n",
              "      <td>1.0</td>\n",
              "      <td>7.0</td>\n",
              "      <td>2.5</td>\n",
              "      <td>0.5</td>\n",
              "      <td>3.00</td>\n",
              "      <td>0.0</td>\n",
              "      <td>0.3</td>\n",
              "      <td>13.30</td>\n",
              "      <td>2.5</td>\n",
              "    </tr>\n",
              "    <tr>\n",
              "      <th>2</th>\n",
              "      <td>2.0</td>\n",
              "      <td>2019-12-28 14:41:40</td>\n",
              "      <td>2019-12-28 14:52:29</td>\n",
              "      <td>1.0</td>\n",
              "      <td>1.12</td>\n",
              "      <td>1.0</td>\n",
              "      <td>N</td>\n",
              "      <td>186</td>\n",
              "      <td>137</td>\n",
              "      <td>2.0</td>\n",
              "      <td>8.0</td>\n",
              "      <td>0.0</td>\n",
              "      <td>0.5</td>\n",
              "      <td>0.00</td>\n",
              "      <td>0.0</td>\n",
              "      <td>0.3</td>\n",
              "      <td>11.30</td>\n",
              "      <td>2.5</td>\n",
              "    </tr>\n",
              "    <tr>\n",
              "      <th>3</th>\n",
              "      <td>2.0</td>\n",
              "      <td>2019-12-05 23:42:35</td>\n",
              "      <td>2019-12-05 23:59:18</td>\n",
              "      <td>2.0</td>\n",
              "      <td>3.80</td>\n",
              "      <td>1.0</td>\n",
              "      <td>N</td>\n",
              "      <td>230</td>\n",
              "      <td>263</td>\n",
              "      <td>1.0</td>\n",
              "      <td>14.5</td>\n",
              "      <td>0.5</td>\n",
              "      <td>0.5</td>\n",
              "      <td>3.66</td>\n",
              "      <td>0.0</td>\n",
              "      <td>0.3</td>\n",
              "      <td>21.96</td>\n",
              "      <td>2.5</td>\n",
              "    </tr>\n",
              "    <tr>\n",
              "      <th>4</th>\n",
              "      <td>1.0</td>\n",
              "      <td>2019-12-13 12:30:25</td>\n",
              "      <td>2019-12-13 12:45:04</td>\n",
              "      <td>2.0</td>\n",
              "      <td>2.10</td>\n",
              "      <td>1.0</td>\n",
              "      <td>N</td>\n",
              "      <td>162</td>\n",
              "      <td>239</td>\n",
              "      <td>1.0</td>\n",
              "      <td>11.5</td>\n",
              "      <td>2.5</td>\n",
              "      <td>0.5</td>\n",
              "      <td>3.00</td>\n",
              "      <td>0.0</td>\n",
              "      <td>0.3</td>\n",
              "      <td>17.80</td>\n",
              "      <td>2.5</td>\n",
              "    </tr>\n",
              "  </tbody>\n",
              "</table>\n",
              "</div>"
            ],
            "text/plain": [
              "   VendorID tpep_pickup_datetime  ... total_amount  congestion_surcharge\n",
              "0       1.0  2019-12-21 07:55:21  ...         9.80                   2.5\n",
              "1       1.0  2019-12-08 13:20:45  ...        13.30                   2.5\n",
              "2       2.0  2019-12-28 14:41:40  ...        11.30                   2.5\n",
              "3       2.0  2019-12-05 23:42:35  ...        21.96                   2.5\n",
              "4       1.0  2019-12-13 12:30:25  ...        17.80                   2.5\n",
              "\n",
              "[5 rows x 18 columns]"
            ]
          },
          "metadata": {
            "tags": []
          },
          "execution_count": 2
        }
      ]
    },
    {
      "cell_type": "markdown",
      "metadata": {
        "id": "5vgZDwSEIDjF"
      },
      "source": [
        "2. Find out some information about the data..."
      ]
    },
    {
      "cell_type": "code",
      "metadata": {
        "id": "fADazPVWIFRu",
        "colab": {
          "base_uri": "https://localhost:8080/"
        },
        "outputId": "6a3889de-1632-4bfa-f415-71c3e24b06f2"
      },
      "source": [
        "# shape\r\n",
        "df.shape"
      ],
      "execution_count": 3,
      "outputs": [
        {
          "output_type": "execute_result",
          "data": {
            "text/plain": [
              "(482742, 18)"
            ]
          },
          "metadata": {
            "tags": []
          },
          "execution_count": 3
        }
      ]
    },
    {
      "cell_type": "code",
      "metadata": {
        "colab": {
          "base_uri": "https://localhost:8080/"
        },
        "id": "ehLGmprwUJfO",
        "outputId": "4131191d-7d6d-4571-96ec-063bb2572384"
      },
      "source": [
        "df.info() # info "
      ],
      "execution_count": 4,
      "outputs": [
        {
          "output_type": "stream",
          "text": [
            "<class 'pandas.core.frame.DataFrame'>\n",
            "RangeIndex: 482742 entries, 0 to 482741\n",
            "Data columns (total 18 columns):\n",
            " #   Column                 Non-Null Count   Dtype  \n",
            "---  ------                 --------------   -----  \n",
            " 0   VendorID               479098 non-null  float64\n",
            " 1   tpep_pickup_datetime   482742 non-null  object \n",
            " 2   tpep_dropoff_datetime  482742 non-null  object \n",
            " 3   passenger_count        479098 non-null  float64\n",
            " 4   trip_distance          482742 non-null  float64\n",
            " 5   RatecodeID             479098 non-null  float64\n",
            " 6   store_and_fwd_flag     479098 non-null  object \n",
            " 7   PULocationID           482742 non-null  int64  \n",
            " 8   DOLocationID           482742 non-null  int64  \n",
            " 9   payment_type           479098 non-null  float64\n",
            " 10  fare_amount            482742 non-null  float64\n",
            " 11  extra                  482742 non-null  float64\n",
            " 12  mta_tax                482742 non-null  float64\n",
            " 13  tip_amount             482742 non-null  float64\n",
            " 14  tolls_amount           482742 non-null  float64\n",
            " 15  improvement_surcharge  482742 non-null  float64\n",
            " 16  total_amount           482742 non-null  float64\n",
            " 17  congestion_surcharge   482742 non-null  float64\n",
            "dtypes: float64(13), int64(2), object(3)\n",
            "memory usage: 66.3+ MB\n"
          ],
          "name": "stdout"
        }
      ]
    },
    {
      "cell_type": "code",
      "metadata": {
        "colab": {
          "base_uri": "https://localhost:8080/",
          "height": 304
        },
        "id": "bSbJj7FvUGMu",
        "outputId": "28e19af8-e9f5-432e-af77-ada8ee5c95ec"
      },
      "source": [
        "# numerical columns describtion\r\n",
        "df.describe()"
      ],
      "execution_count": 5,
      "outputs": [
        {
          "output_type": "execute_result",
          "data": {
            "text/html": [
              "<div>\n",
              "<style scoped>\n",
              "    .dataframe tbody tr th:only-of-type {\n",
              "        vertical-align: middle;\n",
              "    }\n",
              "\n",
              "    .dataframe tbody tr th {\n",
              "        vertical-align: top;\n",
              "    }\n",
              "\n",
              "    .dataframe thead th {\n",
              "        text-align: right;\n",
              "    }\n",
              "</style>\n",
              "<table border=\"1\" class=\"dataframe\">\n",
              "  <thead>\n",
              "    <tr style=\"text-align: right;\">\n",
              "      <th></th>\n",
              "      <th>VendorID</th>\n",
              "      <th>passenger_count</th>\n",
              "      <th>trip_distance</th>\n",
              "      <th>RatecodeID</th>\n",
              "      <th>PULocationID</th>\n",
              "      <th>DOLocationID</th>\n",
              "      <th>payment_type</th>\n",
              "      <th>fare_amount</th>\n",
              "      <th>extra</th>\n",
              "      <th>mta_tax</th>\n",
              "      <th>tip_amount</th>\n",
              "      <th>tolls_amount</th>\n",
              "      <th>improvement_surcharge</th>\n",
              "      <th>total_amount</th>\n",
              "      <th>congestion_surcharge</th>\n",
              "    </tr>\n",
              "  </thead>\n",
              "  <tbody>\n",
              "    <tr>\n",
              "      <th>count</th>\n",
              "      <td>479098.000000</td>\n",
              "      <td>479098.000000</td>\n",
              "      <td>482742.000000</td>\n",
              "      <td>479098.000000</td>\n",
              "      <td>482742.000000</td>\n",
              "      <td>482742.000000</td>\n",
              "      <td>479098.000000</td>\n",
              "      <td>482742.000000</td>\n",
              "      <td>482742.000000</td>\n",
              "      <td>482742.000000</td>\n",
              "      <td>482742.000000</td>\n",
              "      <td>482742.000000</td>\n",
              "      <td>482742.000000</td>\n",
              "      <td>482742.000000</td>\n",
              "      <td>482742.000000</td>\n",
              "    </tr>\n",
              "    <tr>\n",
              "      <th>mean</th>\n",
              "      <td>1.666173</td>\n",
              "      <td>1.550393</td>\n",
              "      <td>2.977807</td>\n",
              "      <td>1.065156</td>\n",
              "      <td>163.502449</td>\n",
              "      <td>161.722570</td>\n",
              "      <td>1.298091</td>\n",
              "      <td>14.358827</td>\n",
              "      <td>1.110255</td>\n",
              "      <td>0.492481</td>\n",
              "      <td>2.245453</td>\n",
              "      <td>0.390203</td>\n",
              "      <td>0.298011</td>\n",
              "      <td>20.414273</td>\n",
              "      <td>2.275034</td>\n",
              "    </tr>\n",
              "    <tr>\n",
              "      <th>std</th>\n",
              "      <td>0.471579</td>\n",
              "      <td>1.174092</td>\n",
              "      <td>3.941160</td>\n",
              "      <td>0.903839</td>\n",
              "      <td>66.172609</td>\n",
              "      <td>70.222873</td>\n",
              "      <td>0.487450</td>\n",
              "      <td>573.620806</td>\n",
              "      <td>1.269991</td>\n",
              "      <td>0.071925</td>\n",
              "      <td>2.853395</td>\n",
              "      <td>1.699026</td>\n",
              "      <td>0.033592</td>\n",
              "      <td>573.684344</td>\n",
              "      <td>0.735852</td>\n",
              "    </tr>\n",
              "    <tr>\n",
              "      <th>min</th>\n",
              "      <td>1.000000</td>\n",
              "      <td>0.000000</td>\n",
              "      <td>-30.100000</td>\n",
              "      <td>1.000000</td>\n",
              "      <td>1.000000</td>\n",
              "      <td>1.000000</td>\n",
              "      <td>1.000000</td>\n",
              "      <td>-180.000000</td>\n",
              "      <td>-4.500000</td>\n",
              "      <td>-0.500000</td>\n",
              "      <td>-98.760000</td>\n",
              "      <td>-21.230000</td>\n",
              "      <td>-0.300000</td>\n",
              "      <td>-180.300000</td>\n",
              "      <td>-2.500000</td>\n",
              "    </tr>\n",
              "    <tr>\n",
              "      <th>25%</th>\n",
              "      <td>1.000000</td>\n",
              "      <td>1.000000</td>\n",
              "      <td>0.960000</td>\n",
              "      <td>1.000000</td>\n",
              "      <td>125.000000</td>\n",
              "      <td>112.000000</td>\n",
              "      <td>1.000000</td>\n",
              "      <td>6.500000</td>\n",
              "      <td>0.000000</td>\n",
              "      <td>0.500000</td>\n",
              "      <td>0.000000</td>\n",
              "      <td>0.000000</td>\n",
              "      <td>0.300000</td>\n",
              "      <td>11.300000</td>\n",
              "      <td>2.500000</td>\n",
              "    </tr>\n",
              "    <tr>\n",
              "      <th>50%</th>\n",
              "      <td>2.000000</td>\n",
              "      <td>1.000000</td>\n",
              "      <td>1.600000</td>\n",
              "      <td>1.000000</td>\n",
              "      <td>162.000000</td>\n",
              "      <td>162.000000</td>\n",
              "      <td>1.000000</td>\n",
              "      <td>9.500000</td>\n",
              "      <td>0.500000</td>\n",
              "      <td>0.500000</td>\n",
              "      <td>1.920000</td>\n",
              "      <td>0.000000</td>\n",
              "      <td>0.300000</td>\n",
              "      <td>14.800000</td>\n",
              "      <td>2.500000</td>\n",
              "    </tr>\n",
              "    <tr>\n",
              "      <th>75%</th>\n",
              "      <td>2.000000</td>\n",
              "      <td>2.000000</td>\n",
              "      <td>3.020000</td>\n",
              "      <td>1.000000</td>\n",
              "      <td>233.000000</td>\n",
              "      <td>234.000000</td>\n",
              "      <td>2.000000</td>\n",
              "      <td>15.500000</td>\n",
              "      <td>2.500000</td>\n",
              "      <td>0.500000</td>\n",
              "      <td>3.000000</td>\n",
              "      <td>0.000000</td>\n",
              "      <td>0.300000</td>\n",
              "      <td>21.350000</td>\n",
              "      <td>2.500000</td>\n",
              "    </tr>\n",
              "    <tr>\n",
              "      <th>max</th>\n",
              "      <td>2.000000</td>\n",
              "      <td>9.000000</td>\n",
              "      <td>93.740000</td>\n",
              "      <td>99.000000</td>\n",
              "      <td>265.000000</td>\n",
              "      <td>265.000000</td>\n",
              "      <td>4.000000</td>\n",
              "      <td>398468.380000</td>\n",
              "      <td>90.060000</td>\n",
              "      <td>0.900000</td>\n",
              "      <td>225.000000</td>\n",
              "      <td>113.880000</td>\n",
              "      <td>0.300000</td>\n",
              "      <td>398471.200000</td>\n",
              "      <td>2.750000</td>\n",
              "    </tr>\n",
              "  </tbody>\n",
              "</table>\n",
              "</div>"
            ],
            "text/plain": [
              "            VendorID  passenger_count  ...   total_amount  congestion_surcharge\n",
              "count  479098.000000    479098.000000  ...  482742.000000         482742.000000\n",
              "mean        1.666173         1.550393  ...      20.414273              2.275034\n",
              "std         0.471579         1.174092  ...     573.684344              0.735852\n",
              "min         1.000000         0.000000  ...    -180.300000             -2.500000\n",
              "25%         1.000000         1.000000  ...      11.300000              2.500000\n",
              "50%         2.000000         1.000000  ...      14.800000              2.500000\n",
              "75%         2.000000         2.000000  ...      21.350000              2.500000\n",
              "max         2.000000         9.000000  ...  398471.200000              2.750000\n",
              "\n",
              "[8 rows x 15 columns]"
            ]
          },
          "metadata": {
            "tags": []
          },
          "execution_count": 5
        }
      ]
    },
    {
      "cell_type": "code",
      "metadata": {
        "colab": {
          "base_uri": "https://localhost:8080/",
          "height": 166
        },
        "id": "wXYykb3xUwjK",
        "outputId": "c96278de-d92d-43e3-8833-7e67ac72c967"
      },
      "source": [
        "# Catgorical column describtion \r\n",
        "df.describe(exclude=[np.number])"
      ],
      "execution_count": 6,
      "outputs": [
        {
          "output_type": "execute_result",
          "data": {
            "text/html": [
              "<div>\n",
              "<style scoped>\n",
              "    .dataframe tbody tr th:only-of-type {\n",
              "        vertical-align: middle;\n",
              "    }\n",
              "\n",
              "    .dataframe tbody tr th {\n",
              "        vertical-align: top;\n",
              "    }\n",
              "\n",
              "    .dataframe thead th {\n",
              "        text-align: right;\n",
              "    }\n",
              "</style>\n",
              "<table border=\"1\" class=\"dataframe\">\n",
              "  <thead>\n",
              "    <tr style=\"text-align: right;\">\n",
              "      <th></th>\n",
              "      <th>tpep_pickup_datetime</th>\n",
              "      <th>tpep_dropoff_datetime</th>\n",
              "      <th>store_and_fwd_flag</th>\n",
              "    </tr>\n",
              "  </thead>\n",
              "  <tbody>\n",
              "    <tr>\n",
              "      <th>count</th>\n",
              "      <td>482742</td>\n",
              "      <td>482742</td>\n",
              "      <td>479098</td>\n",
              "    </tr>\n",
              "    <tr>\n",
              "      <th>unique</th>\n",
              "      <td>430916</td>\n",
              "      <td>430729</td>\n",
              "      <td>2</td>\n",
              "    </tr>\n",
              "    <tr>\n",
              "      <th>top</th>\n",
              "      <td>2019-12-05 19:09:01</td>\n",
              "      <td>2019-12-22 00:00:00</td>\n",
              "      <td>N</td>\n",
              "    </tr>\n",
              "    <tr>\n",
              "      <th>freq</th>\n",
              "      <td>5</td>\n",
              "      <td>7</td>\n",
              "      <td>473713</td>\n",
              "    </tr>\n",
              "  </tbody>\n",
              "</table>\n",
              "</div>"
            ],
            "text/plain": [
              "       tpep_pickup_datetime tpep_dropoff_datetime store_and_fwd_flag\n",
              "count                482742                482742             479098\n",
              "unique               430916                430729                  2\n",
              "top     2019-12-05 19:09:01   2019-12-22 00:00:00                  N\n",
              "freq                      5                     7             473713"
            ]
          },
          "metadata": {
            "tags": []
          },
          "execution_count": 6
        }
      ]
    },
    {
      "cell_type": "code",
      "metadata": {
        "colab": {
          "base_uri": "https://localhost:8080/"
        },
        "id": "TWsUoAVijAqd",
        "outputId": "f8dbd137-200f-4e40-bca7-976b5b7a2cc4"
      },
      "source": [
        "df.isnull().sum()"
      ],
      "execution_count": 7,
      "outputs": [
        {
          "output_type": "execute_result",
          "data": {
            "text/plain": [
              "VendorID                 3644\n",
              "tpep_pickup_datetime        0\n",
              "tpep_dropoff_datetime       0\n",
              "passenger_count          3644\n",
              "trip_distance               0\n",
              "RatecodeID               3644\n",
              "store_and_fwd_flag       3644\n",
              "PULocationID                0\n",
              "DOLocationID                0\n",
              "payment_type             3644\n",
              "fare_amount                 0\n",
              "extra                       0\n",
              "mta_tax                     0\n",
              "tip_amount                  0\n",
              "tolls_amount                0\n",
              "improvement_surcharge       0\n",
              "total_amount                0\n",
              "congestion_surcharge        0\n",
              "dtype: int64"
            ]
          },
          "metadata": {
            "tags": []
          },
          "execution_count": 7
        }
      ]
    },
    {
      "cell_type": "markdown",
      "metadata": {
        "id": "4FsmeuGnIOYd"
      },
      "source": [
        "3. Show me the relationships in your data... \r\n",
        "- corr ([help](https://stackoverflow.com/a/50703596/11074111))\r\n",
        "- pariplot\r\n",
        "- some other visualization(s) (of your choice)"
      ]
    },
    {
      "cell_type": "code",
      "metadata": {
        "id": "hoW-M_ObIiqn",
        "colab": {
          "base_uri": "https://localhost:8080/",
          "height": 358
        },
        "outputId": "7f0211db-4509-4e9a-cbac-0cfc96f2a3e5"
      },
      "source": [
        "corr = df.corr()\r\n",
        "corr.style.background_gradient(cmap='Greens')"
      ],
      "execution_count": 8,
      "outputs": [
        {
          "output_type": "execute_result",
          "data": {
            "text/html": [
              "<style  type=\"text/css\" >\n",
              "#T_6a0e457e_63c8_11eb_af2c_0242ac1c0002row0_col0,#T_6a0e457e_63c8_11eb_af2c_0242ac1c0002row1_col1,#T_6a0e457e_63c8_11eb_af2c_0242ac1c0002row2_col2,#T_6a0e457e_63c8_11eb_af2c_0242ac1c0002row3_col3,#T_6a0e457e_63c8_11eb_af2c_0242ac1c0002row4_col4,#T_6a0e457e_63c8_11eb_af2c_0242ac1c0002row5_col5,#T_6a0e457e_63c8_11eb_af2c_0242ac1c0002row6_col6,#T_6a0e457e_63c8_11eb_af2c_0242ac1c0002row7_col7,#T_6a0e457e_63c8_11eb_af2c_0242ac1c0002row7_col13,#T_6a0e457e_63c8_11eb_af2c_0242ac1c0002row8_col8,#T_6a0e457e_63c8_11eb_af2c_0242ac1c0002row9_col9,#T_6a0e457e_63c8_11eb_af2c_0242ac1c0002row10_col10,#T_6a0e457e_63c8_11eb_af2c_0242ac1c0002row11_col11,#T_6a0e457e_63c8_11eb_af2c_0242ac1c0002row12_col12,#T_6a0e457e_63c8_11eb_af2c_0242ac1c0002row13_col7,#T_6a0e457e_63c8_11eb_af2c_0242ac1c0002row13_col13,#T_6a0e457e_63c8_11eb_af2c_0242ac1c0002row14_col14{\n",
              "            background-color:  #00441b;\n",
              "            color:  #f1f1f1;\n",
              "        }#T_6a0e457e_63c8_11eb_af2c_0242ac1c0002row0_col1{\n",
              "            background-color:  #c3e7bc;\n",
              "            color:  #000000;\n",
              "        }#T_6a0e457e_63c8_11eb_af2c_0242ac1c0002row0_col2,#T_6a0e457e_63c8_11eb_af2c_0242ac1c0002row4_col5,#T_6a0e457e_63c8_11eb_af2c_0242ac1c0002row13_col2{\n",
              "            background-color:  #d5efcf;\n",
              "            color:  #000000;\n",
              "        }#T_6a0e457e_63c8_11eb_af2c_0242ac1c0002row0_col3,#T_6a0e457e_63c8_11eb_af2c_0242ac1c0002row4_col9{\n",
              "            background-color:  #dcf2d7;\n",
              "            color:  #000000;\n",
              "        }#T_6a0e457e_63c8_11eb_af2c_0242ac1c0002row0_col4,#T_6a0e457e_63c8_11eb_af2c_0242ac1c0002row1_col4,#T_6a0e457e_63c8_11eb_af2c_0242ac1c0002row2_col9,#T_6a0e457e_63c8_11eb_af2c_0242ac1c0002row3_col4{\n",
              "            background-color:  #ecf8e8;\n",
              "            color:  #000000;\n",
              "        }#T_6a0e457e_63c8_11eb_af2c_0242ac1c0002row0_col5,#T_6a0e457e_63c8_11eb_af2c_0242ac1c0002row3_col5,#T_6a0e457e_63c8_11eb_af2c_0242ac1c0002row3_col14,#T_6a0e457e_63c8_11eb_af2c_0242ac1c0002row4_col2,#T_6a0e457e_63c8_11eb_af2c_0242ac1c0002row7_col5,#T_6a0e457e_63c8_11eb_af2c_0242ac1c0002row8_col4,#T_6a0e457e_63c8_11eb_af2c_0242ac1c0002row9_col4,#T_6a0e457e_63c8_11eb_af2c_0242ac1c0002row12_col5,#T_6a0e457e_63c8_11eb_af2c_0242ac1c0002row13_col5{\n",
              "            background-color:  #e9f7e5;\n",
              "            color:  #000000;\n",
              "        }#T_6a0e457e_63c8_11eb_af2c_0242ac1c0002row0_col6{\n",
              "            background-color:  #b2e0ac;\n",
              "            color:  #000000;\n",
              "        }#T_6a0e457e_63c8_11eb_af2c_0242ac1c0002row0_col7,#T_6a0e457e_63c8_11eb_af2c_0242ac1c0002row0_col13,#T_6a0e457e_63c8_11eb_af2c_0242ac1c0002row1_col7,#T_6a0e457e_63c8_11eb_af2c_0242ac1c0002row1_col13,#T_6a0e457e_63c8_11eb_af2c_0242ac1c0002row4_col7,#T_6a0e457e_63c8_11eb_af2c_0242ac1c0002row4_col13,#T_6a0e457e_63c8_11eb_af2c_0242ac1c0002row5_col7,#T_6a0e457e_63c8_11eb_af2c_0242ac1c0002row5_col13,#T_6a0e457e_63c8_11eb_af2c_0242ac1c0002row8_col13,#T_6a0e457e_63c8_11eb_af2c_0242ac1c0002row9_col7,#T_6a0e457e_63c8_11eb_af2c_0242ac1c0002row14_col7,#T_6a0e457e_63c8_11eb_af2c_0242ac1c0002row14_col13{\n",
              "            background-color:  #f6fcf4;\n",
              "            color:  #000000;\n",
              "        }#T_6a0e457e_63c8_11eb_af2c_0242ac1c0002row0_col8,#T_6a0e457e_63c8_11eb_af2c_0242ac1c0002row2_col4,#T_6a0e457e_63c8_11eb_af2c_0242ac1c0002row2_col5,#T_6a0e457e_63c8_11eb_af2c_0242ac1c0002row2_col14,#T_6a0e457e_63c8_11eb_af2c_0242ac1c0002row3_col9,#T_6a0e457e_63c8_11eb_af2c_0242ac1c0002row6_col9,#T_6a0e457e_63c8_11eb_af2c_0242ac1c0002row6_col10,#T_6a0e457e_63c8_11eb_af2c_0242ac1c0002row6_col12,#T_6a0e457e_63c8_11eb_af2c_0242ac1c0002row8_col0,#T_6a0e457e_63c8_11eb_af2c_0242ac1c0002row8_col1,#T_6a0e457e_63c8_11eb_af2c_0242ac1c0002row9_col3,#T_6a0e457e_63c8_11eb_af2c_0242ac1c0002row9_col11,#T_6a0e457e_63c8_11eb_af2c_0242ac1c0002row9_col13,#T_6a0e457e_63c8_11eb_af2c_0242ac1c0002row10_col6,#T_6a0e457e_63c8_11eb_af2c_0242ac1c0002row12_col7,#T_6a0e457e_63c8_11eb_af2c_0242ac1c0002row12_col13,#T_6a0e457e_63c8_11eb_af2c_0242ac1c0002row14_col2{\n",
              "            background-color:  #f7fcf5;\n",
              "            color:  #000000;\n",
              "        }#T_6a0e457e_63c8_11eb_af2c_0242ac1c0002row0_col9,#T_6a0e457e_63c8_11eb_af2c_0242ac1c0002row11_col1,#T_6a0e457e_63c8_11eb_af2c_0242ac1c0002row14_col1{\n",
              "            background-color:  #e4f5df;\n",
              "            color:  #000000;\n",
              "        }#T_6a0e457e_63c8_11eb_af2c_0242ac1c0002row0_col10{\n",
              "            background-color:  #abdda5;\n",
              "            color:  #000000;\n",
              "        }#T_6a0e457e_63c8_11eb_af2c_0242ac1c0002row0_col11,#T_6a0e457e_63c8_11eb_af2c_0242ac1c0002row1_col3,#T_6a0e457e_63c8_11eb_af2c_0242ac1c0002row1_col9,#T_6a0e457e_63c8_11eb_af2c_0242ac1c0002row1_col11,#T_6a0e457e_63c8_11eb_af2c_0242ac1c0002row5_col3,#T_6a0e457e_63c8_11eb_af2c_0242ac1c0002row7_col11{\n",
              "            background-color:  #def2d9;\n",
              "            color:  #000000;\n",
              "        }#T_6a0e457e_63c8_11eb_af2c_0242ac1c0002row0_col12,#T_6a0e457e_63c8_11eb_af2c_0242ac1c0002row3_col12,#T_6a0e457e_63c8_11eb_af2c_0242ac1c0002row7_col9,#T_6a0e457e_63c8_11eb_af2c_0242ac1c0002row13_col9{\n",
              "            background-color:  #dff3da;\n",
              "            color:  #000000;\n",
              "        }#T_6a0e457e_63c8_11eb_af2c_0242ac1c0002row0_col14,#T_6a0e457e_63c8_11eb_af2c_0242ac1c0002row10_col14{\n",
              "            background-color:  #dbf1d6;\n",
              "            color:  #000000;\n",
              "        }#T_6a0e457e_63c8_11eb_af2c_0242ac1c0002row1_col0{\n",
              "            background-color:  #5eb96b;\n",
              "            color:  #000000;\n",
              "        }#T_6a0e457e_63c8_11eb_af2c_0242ac1c0002row1_col2,#T_6a0e457e_63c8_11eb_af2c_0242ac1c0002row7_col2,#T_6a0e457e_63c8_11eb_af2c_0242ac1c0002row12_col2{\n",
              "            background-color:  #d6efd0;\n",
              "            color:  #000000;\n",
              "        }#T_6a0e457e_63c8_11eb_af2c_0242ac1c0002row1_col5{\n",
              "            background-color:  #eaf7e6;\n",
              "            color:  #000000;\n",
              "        }#T_6a0e457e_63c8_11eb_af2c_0242ac1c0002row1_col6,#T_6a0e457e_63c8_11eb_af2c_0242ac1c0002row13_col10{\n",
              "            background-color:  #acdea6;\n",
              "            color:  #000000;\n",
              "        }#T_6a0e457e_63c8_11eb_af2c_0242ac1c0002row1_col8{\n",
              "            background-color:  #9cd797;\n",
              "            color:  #000000;\n",
              "        }#T_6a0e457e_63c8_11eb_af2c_0242ac1c0002row1_col10{\n",
              "            background-color:  #b0dfaa;\n",
              "            color:  #000000;\n",
              "        }#T_6a0e457e_63c8_11eb_af2c_0242ac1c0002row1_col12,#T_6a0e457e_63c8_11eb_af2c_0242ac1c0002row1_col14,#T_6a0e457e_63c8_11eb_af2c_0242ac1c0002row4_col12,#T_6a0e457e_63c8_11eb_af2c_0242ac1c0002row5_col4{\n",
              "            background-color:  #d7efd1;\n",
              "            color:  #000000;\n",
              "        }#T_6a0e457e_63c8_11eb_af2c_0242ac1c0002row2_col0,#T_6a0e457e_63c8_11eb_af2c_0242ac1c0002row10_col0{\n",
              "            background-color:  #7dc87e;\n",
              "            color:  #000000;\n",
              "        }#T_6a0e457e_63c8_11eb_af2c_0242ac1c0002row2_col1,#T_6a0e457e_63c8_11eb_af2c_0242ac1c0002row6_col1,#T_6a0e457e_63c8_11eb_af2c_0242ac1c0002row8_col3{\n",
              "            background-color:  #e3f4de;\n",
              "            color:  #000000;\n",
              "        }#T_6a0e457e_63c8_11eb_af2c_0242ac1c0002row2_col3,#T_6a0e457e_63c8_11eb_af2c_0242ac1c0002row3_col11{\n",
              "            background-color:  #c0e6b9;\n",
              "            color:  #000000;\n",
              "        }#T_6a0e457e_63c8_11eb_af2c_0242ac1c0002row2_col6,#T_6a0e457e_63c8_11eb_af2c_0242ac1c0002row8_col6{\n",
              "            background-color:  #b5e1ae;\n",
              "            color:  #000000;\n",
              "        }#T_6a0e457e_63c8_11eb_af2c_0242ac1c0002row2_col7,#T_6a0e457e_63c8_11eb_af2c_0242ac1c0002row2_col13,#T_6a0e457e_63c8_11eb_af2c_0242ac1c0002row6_col14{\n",
              "            background-color:  #f3faf0;\n",
              "            color:  #000000;\n",
              "        }#T_6a0e457e_63c8_11eb_af2c_0242ac1c0002row2_col8,#T_6a0e457e_63c8_11eb_af2c_0242ac1c0002row7_col0,#T_6a0e457e_63c8_11eb_af2c_0242ac1c0002row7_col8,#T_6a0e457e_63c8_11eb_af2c_0242ac1c0002row10_col8,#T_6a0e457e_63c8_11eb_af2c_0242ac1c0002row11_col8,#T_6a0e457e_63c8_11eb_af2c_0242ac1c0002row13_col0,#T_6a0e457e_63c8_11eb_af2c_0242ac1c0002row13_col8{\n",
              "            background-color:  #81ca81;\n",
              "            color:  #000000;\n",
              "        }#T_6a0e457e_63c8_11eb_af2c_0242ac1c0002row2_col10{\n",
              "            background-color:  #37a055;\n",
              "            color:  #000000;\n",
              "        }#T_6a0e457e_63c8_11eb_af2c_0242ac1c0002row2_col11{\n",
              "            background-color:  #369f54;\n",
              "            color:  #000000;\n",
              "        }#T_6a0e457e_63c8_11eb_af2c_0242ac1c0002row2_col12,#T_6a0e457e_63c8_11eb_af2c_0242ac1c0002row11_col12{\n",
              "            background-color:  #d4eece;\n",
              "            color:  #000000;\n",
              "        }#T_6a0e457e_63c8_11eb_af2c_0242ac1c0002row3_col0,#T_6a0e457e_63c8_11eb_af2c_0242ac1c0002row11_col0{\n",
              "            background-color:  #80ca80;\n",
              "            color:  #000000;\n",
              "        }#T_6a0e457e_63c8_11eb_af2c_0242ac1c0002row3_col1,#T_6a0e457e_63c8_11eb_af2c_0242ac1c0002row7_col1,#T_6a0e457e_63c8_11eb_af2c_0242ac1c0002row10_col1,#T_6a0e457e_63c8_11eb_af2c_0242ac1c0002row12_col3,#T_6a0e457e_63c8_11eb_af2c_0242ac1c0002row13_col1{\n",
              "            background-color:  #e6f5e1;\n",
              "            color:  #000000;\n",
              "        }#T_6a0e457e_63c8_11eb_af2c_0242ac1c0002row3_col2{\n",
              "            background-color:  #bbe4b4;\n",
              "            color:  #000000;\n",
              "        }#T_6a0e457e_63c8_11eb_af2c_0242ac1c0002row3_col6,#T_6a0e457e_63c8_11eb_af2c_0242ac1c0002row7_col6,#T_6a0e457e_63c8_11eb_af2c_0242ac1c0002row8_col10,#T_6a0e457e_63c8_11eb_af2c_0242ac1c0002row13_col6{\n",
              "            background-color:  #afdfa8;\n",
              "            color:  #000000;\n",
              "        }#T_6a0e457e_63c8_11eb_af2c_0242ac1c0002row3_col7,#T_6a0e457e_63c8_11eb_af2c_0242ac1c0002row3_col13,#T_6a0e457e_63c8_11eb_af2c_0242ac1c0002row6_col13,#T_6a0e457e_63c8_11eb_af2c_0242ac1c0002row8_col7,#T_6a0e457e_63c8_11eb_af2c_0242ac1c0002row11_col9{\n",
              "            background-color:  #f5fbf3;\n",
              "            color:  #000000;\n",
              "        }#T_6a0e457e_63c8_11eb_af2c_0242ac1c0002row3_col8,#T_6a0e457e_63c8_11eb_af2c_0242ac1c0002row6_col8{\n",
              "            background-color:  #86cc85;\n",
              "            color:  #000000;\n",
              "        }#T_6a0e457e_63c8_11eb_af2c_0242ac1c0002row3_col10{\n",
              "            background-color:  #92d28f;\n",
              "            color:  #000000;\n",
              "        }#T_6a0e457e_63c8_11eb_af2c_0242ac1c0002row4_col0,#T_6a0e457e_63c8_11eb_af2c_0242ac1c0002row5_col0{\n",
              "            background-color:  #83cb82;\n",
              "            color:  #000000;\n",
              "        }#T_6a0e457e_63c8_11eb_af2c_0242ac1c0002row4_col1,#T_6a0e457e_63c8_11eb_af2c_0242ac1c0002row5_col1,#T_6a0e457e_63c8_11eb_af2c_0242ac1c0002row6_col11{\n",
              "            background-color:  #e7f6e2;\n",
              "            color:  #000000;\n",
              "        }#T_6a0e457e_63c8_11eb_af2c_0242ac1c0002row4_col3,#T_6a0e457e_63c8_11eb_af2c_0242ac1c0002row8_col11{\n",
              "            background-color:  #e0f3db;\n",
              "            color:  #000000;\n",
              "        }#T_6a0e457e_63c8_11eb_af2c_0242ac1c0002row4_col6,#T_6a0e457e_63c8_11eb_af2c_0242ac1c0002row4_col10,#T_6a0e457e_63c8_11eb_af2c_0242ac1c0002row5_col6{\n",
              "            background-color:  #b6e2af;\n",
              "            color:  #000000;\n",
              "        }#T_6a0e457e_63c8_11eb_af2c_0242ac1c0002row4_col8,#T_6a0e457e_63c8_11eb_af2c_0242ac1c0002row5_col8{\n",
              "            background-color:  #7fc97f;\n",
              "            color:  #000000;\n",
              "        }#T_6a0e457e_63c8_11eb_af2c_0242ac1c0002row4_col11,#T_6a0e457e_63c8_11eb_af2c_0242ac1c0002row9_col2,#T_6a0e457e_63c8_11eb_af2c_0242ac1c0002row10_col9{\n",
              "            background-color:  #e8f6e4;\n",
              "            color:  #000000;\n",
              "        }#T_6a0e457e_63c8_11eb_af2c_0242ac1c0002row4_col14,#T_6a0e457e_63c8_11eb_af2c_0242ac1c0002row5_col14{\n",
              "            background-color:  #bee5b8;\n",
              "            color:  #000000;\n",
              "        }#T_6a0e457e_63c8_11eb_af2c_0242ac1c0002row5_col2,#T_6a0e457e_63c8_11eb_af2c_0242ac1c0002row5_col11,#T_6a0e457e_63c8_11eb_af2c_0242ac1c0002row7_col4,#T_6a0e457e_63c8_11eb_af2c_0242ac1c0002row12_col4,#T_6a0e457e_63c8_11eb_af2c_0242ac1c0002row13_col4{\n",
              "            background-color:  #ebf7e7;\n",
              "            color:  #000000;\n",
              "        }#T_6a0e457e_63c8_11eb_af2c_0242ac1c0002row5_col9,#T_6a0e457e_63c8_11eb_af2c_0242ac1c0002row12_col6{\n",
              "            background-color:  #d9f0d3;\n",
              "            color:  #000000;\n",
              "        }#T_6a0e457e_63c8_11eb_af2c_0242ac1c0002row5_col10,#T_6a0e457e_63c8_11eb_af2c_0242ac1c0002row11_col6{\n",
              "            background-color:  #b7e2b1;\n",
              "            color:  #000000;\n",
              "        }#T_6a0e457e_63c8_11eb_af2c_0242ac1c0002row5_col12{\n",
              "            background-color:  #d8f0d2;\n",
              "            color:  #000000;\n",
              "        }#T_6a0e457e_63c8_11eb_af2c_0242ac1c0002row6_col0,#T_6a0e457e_63c8_11eb_af2c_0242ac1c0002row14_col0{\n",
              "            background-color:  #84cc83;\n",
              "            color:  #000000;\n",
              "        }#T_6a0e457e_63c8_11eb_af2c_0242ac1c0002row6_col2,#T_6a0e457e_63c8_11eb_af2c_0242ac1c0002row6_col3,#T_6a0e457e_63c8_11eb_af2c_0242ac1c0002row7_col3,#T_6a0e457e_63c8_11eb_af2c_0242ac1c0002row12_col11,#T_6a0e457e_63c8_11eb_af2c_0242ac1c0002row13_col3,#T_6a0e457e_63c8_11eb_af2c_0242ac1c0002row13_col11{\n",
              "            background-color:  #ddf2d8;\n",
              "            color:  #000000;\n",
              "        }#T_6a0e457e_63c8_11eb_af2c_0242ac1c0002row6_col4,#T_6a0e457e_63c8_11eb_af2c_0242ac1c0002row10_col4{\n",
              "            background-color:  #eff9eb;\n",
              "            color:  #000000;\n",
              "        }#T_6a0e457e_63c8_11eb_af2c_0242ac1c0002row6_col5{\n",
              "            background-color:  #edf8ea;\n",
              "            color:  #000000;\n",
              "        }#T_6a0e457e_63c8_11eb_af2c_0242ac1c0002row6_col7{\n",
              "            background-color:  #f5fbf2;\n",
              "            color:  #000000;\n",
              "        }#T_6a0e457e_63c8_11eb_af2c_0242ac1c0002row7_col10{\n",
              "            background-color:  #aedea7;\n",
              "            color:  #000000;\n",
              "        }#T_6a0e457e_63c8_11eb_af2c_0242ac1c0002row7_col12,#T_6a0e457e_63c8_11eb_af2c_0242ac1c0002row8_col2,#T_6a0e457e_63c8_11eb_af2c_0242ac1c0002row13_col12{\n",
              "            background-color:  #daf0d4;\n",
              "            color:  #000000;\n",
              "        }#T_6a0e457e_63c8_11eb_af2c_0242ac1c0002row7_col14,#T_6a0e457e_63c8_11eb_af2c_0242ac1c0002row13_col14{\n",
              "            background-color:  #dbf1d5;\n",
              "            color:  #000000;\n",
              "        }#T_6a0e457e_63c8_11eb_af2c_0242ac1c0002row8_col5{\n",
              "            background-color:  #e7f6e3;\n",
              "            color:  #000000;\n",
              "        }#T_6a0e457e_63c8_11eb_af2c_0242ac1c0002row8_col9,#T_6a0e457e_63c8_11eb_af2c_0242ac1c0002row14_col6{\n",
              "            background-color:  #d1edcb;\n",
              "            color:  #000000;\n",
              "        }#T_6a0e457e_63c8_11eb_af2c_0242ac1c0002row8_col12{\n",
              "            background-color:  #cbebc5;\n",
              "            color:  #000000;\n",
              "        }#T_6a0e457e_63c8_11eb_af2c_0242ac1c0002row8_col14{\n",
              "            background-color:  #bae3b3;\n",
              "            color:  #000000;\n",
              "        }#T_6a0e457e_63c8_11eb_af2c_0242ac1c0002row9_col0{\n",
              "            background-color:  #87cd86;\n",
              "            color:  #000000;\n",
              "        }#T_6a0e457e_63c8_11eb_af2c_0242ac1c0002row9_col1,#T_6a0e457e_63c8_11eb_af2c_0242ac1c0002row9_col5,#T_6a0e457e_63c8_11eb_af2c_0242ac1c0002row12_col1{\n",
              "            background-color:  #e5f5e1;\n",
              "            color:  #000000;\n",
              "        }#T_6a0e457e_63c8_11eb_af2c_0242ac1c0002row9_col6,#T_6a0e457e_63c8_11eb_af2c_0242ac1c0002row14_col4{\n",
              "            background-color:  #d2edcc;\n",
              "            color:  #000000;\n",
              "        }#T_6a0e457e_63c8_11eb_af2c_0242ac1c0002row9_col8,#T_6a0e457e_63c8_11eb_af2c_0242ac1c0002row12_col8{\n",
              "            background-color:  #75c477;\n",
              "            color:  #000000;\n",
              "        }#T_6a0e457e_63c8_11eb_af2c_0242ac1c0002row9_col10,#T_6a0e457e_63c8_11eb_af2c_0242ac1c0002row11_col3{\n",
              "            background-color:  #bce4b5;\n",
              "            color:  #000000;\n",
              "        }#T_6a0e457e_63c8_11eb_af2c_0242ac1c0002row9_col12{\n",
              "            background-color:  #17813d;\n",
              "            color:  #f1f1f1;\n",
              "        }#T_6a0e457e_63c8_11eb_af2c_0242ac1c0002row9_col14,#T_6a0e457e_63c8_11eb_af2c_0242ac1c0002row10_col11{\n",
              "            background-color:  #6ec173;\n",
              "            color:  #000000;\n",
              "        }#T_6a0e457e_63c8_11eb_af2c_0242ac1c0002row10_col2{\n",
              "            background-color:  #4eb264;\n",
              "            color:  #000000;\n",
              "        }#T_6a0e457e_63c8_11eb_af2c_0242ac1c0002row10_col3{\n",
              "            background-color:  #c2e7bb;\n",
              "            color:  #000000;\n",
              "        }#T_6a0e457e_63c8_11eb_af2c_0242ac1c0002row10_col5{\n",
              "            background-color:  #eef8ea;\n",
              "            color:  #000000;\n",
              "        }#T_6a0e457e_63c8_11eb_af2c_0242ac1c0002row10_col7,#T_6a0e457e_63c8_11eb_af2c_0242ac1c0002row11_col7{\n",
              "            background-color:  #f4fbf2;\n",
              "            color:  #000000;\n",
              "        }#T_6a0e457e_63c8_11eb_af2c_0242ac1c0002row10_col12{\n",
              "            background-color:  #cfecc9;\n",
              "            color:  #000000;\n",
              "        }#T_6a0e457e_63c8_11eb_af2c_0242ac1c0002row10_col13,#T_6a0e457e_63c8_11eb_af2c_0242ac1c0002row11_col13{\n",
              "            background-color:  #f4fbf1;\n",
              "            color:  #000000;\n",
              "        }#T_6a0e457e_63c8_11eb_af2c_0242ac1c0002row11_col2{\n",
              "            background-color:  #339c52;\n",
              "            color:  #000000;\n",
              "        }#T_6a0e457e_63c8_11eb_af2c_0242ac1c0002row11_col4{\n",
              "            background-color:  #f1faee;\n",
              "            color:  #000000;\n",
              "        }#T_6a0e457e_63c8_11eb_af2c_0242ac1c0002row11_col5,#T_6a0e457e_63c8_11eb_af2c_0242ac1c0002row14_col11{\n",
              "            background-color:  #f2faef;\n",
              "            color:  #000000;\n",
              "        }#T_6a0e457e_63c8_11eb_af2c_0242ac1c0002row11_col10{\n",
              "            background-color:  #45ad5f;\n",
              "            color:  #000000;\n",
              "        }#T_6a0e457e_63c8_11eb_af2c_0242ac1c0002row11_col14,#T_6a0e457e_63c8_11eb_af2c_0242ac1c0002row14_col3{\n",
              "            background-color:  #edf8e9;\n",
              "            color:  #000000;\n",
              "        }#T_6a0e457e_63c8_11eb_af2c_0242ac1c0002row12_col0,#T_6a0e457e_63c8_11eb_af2c_0242ac1c0002row12_col14{\n",
              "            background-color:  #8ace88;\n",
              "            color:  #000000;\n",
              "        }#T_6a0e457e_63c8_11eb_af2c_0242ac1c0002row12_col9{\n",
              "            background-color:  #19833e;\n",
              "            color:  #f1f1f1;\n",
              "        }#T_6a0e457e_63c8_11eb_af2c_0242ac1c0002row12_col10{\n",
              "            background-color:  #a8dca2;\n",
              "            color:  #000000;\n",
              "        }#T_6a0e457e_63c8_11eb_af2c_0242ac1c0002row14_col5{\n",
              "            background-color:  #d0edca;\n",
              "            color:  #000000;\n",
              "        }#T_6a0e457e_63c8_11eb_af2c_0242ac1c0002row14_col8{\n",
              "            background-color:  #63bc6e;\n",
              "            color:  #000000;\n",
              "        }#T_6a0e457e_63c8_11eb_af2c_0242ac1c0002row14_col9{\n",
              "            background-color:  #73c476;\n",
              "            color:  #000000;\n",
              "        }#T_6a0e457e_63c8_11eb_af2c_0242ac1c0002row14_col10{\n",
              "            background-color:  #b1e0ab;\n",
              "            color:  #000000;\n",
              "        }#T_6a0e457e_63c8_11eb_af2c_0242ac1c0002row14_col12{\n",
              "            background-color:  #88ce87;\n",
              "            color:  #000000;\n",
              "        }</style><table id=\"T_6a0e457e_63c8_11eb_af2c_0242ac1c0002\" ><thead>    <tr>        <th class=\"blank level0\" ></th>        <th class=\"col_heading level0 col0\" >VendorID</th>        <th class=\"col_heading level0 col1\" >passenger_count</th>        <th class=\"col_heading level0 col2\" >trip_distance</th>        <th class=\"col_heading level0 col3\" >RatecodeID</th>        <th class=\"col_heading level0 col4\" >PULocationID</th>        <th class=\"col_heading level0 col5\" >DOLocationID</th>        <th class=\"col_heading level0 col6\" >payment_type</th>        <th class=\"col_heading level0 col7\" >fare_amount</th>        <th class=\"col_heading level0 col8\" >extra</th>        <th class=\"col_heading level0 col9\" >mta_tax</th>        <th class=\"col_heading level0 col10\" >tip_amount</th>        <th class=\"col_heading level0 col11\" >tolls_amount</th>        <th class=\"col_heading level0 col12\" >improvement_surcharge</th>        <th class=\"col_heading level0 col13\" >total_amount</th>        <th class=\"col_heading level0 col14\" >congestion_surcharge</th>    </tr></thead><tbody>\n",
              "                <tr>\n",
              "                        <th id=\"T_6a0e457e_63c8_11eb_af2c_0242ac1c0002level0_row0\" class=\"row_heading level0 row0\" >VendorID</th>\n",
              "                        <td id=\"T_6a0e457e_63c8_11eb_af2c_0242ac1c0002row0_col0\" class=\"data row0 col0\" >1.000000</td>\n",
              "                        <td id=\"T_6a0e457e_63c8_11eb_af2c_0242ac1c0002row0_col1\" class=\"data row0 col1\" >0.165798</td>\n",
              "                        <td id=\"T_6a0e457e_63c8_11eb_af2c_0242ac1c0002row0_col2\" class=\"data row0 col2\" >0.025826</td>\n",
              "                        <td id=\"T_6a0e457e_63c8_11eb_af2c_0242ac1c0002row0_col3\" class=\"data row0 col3\" >0.009225</td>\n",
              "                        <td id=\"T_6a0e457e_63c8_11eb_af2c_0242ac1c0002row0_col4\" class=\"data row0 col4\" >-0.006963</td>\n",
              "                        <td id=\"T_6a0e457e_63c8_11eb_af2c_0242ac1c0002row0_col5\" class=\"data row0 col5\" >-0.002515</td>\n",
              "                        <td id=\"T_6a0e457e_63c8_11eb_af2c_0242ac1c0002row0_col6\" class=\"data row0 col6\" >-0.012707</td>\n",
              "                        <td id=\"T_6a0e457e_63c8_11eb_af2c_0242ac1c0002row0_col7\" class=\"data row0 col7\" >-0.001725</td>\n",
              "                        <td id=\"T_6a0e457e_63c8_11eb_af2c_0242ac1c0002row0_col8\" class=\"data row0 col8\" >-0.858735</td>\n",
              "                        <td id=\"T_6a0e457e_63c8_11eb_af2c_0242ac1c0002row0_col9\" class=\"data row0 col9\" >-0.028355</td>\n",
              "                        <td id=\"T_6a0e457e_63c8_11eb_af2c_0242ac1c0002row0_col10\" class=\"data row0 col10\" >0.021642</td>\n",
              "                        <td id=\"T_6a0e457e_63c8_11eb_af2c_0242ac1c0002row0_col11\" class=\"data row0 col11\" >0.010144</td>\n",
              "                        <td id=\"T_6a0e457e_63c8_11eb_af2c_0242ac1c0002row0_col12\" class=\"data row0 col12\" >-0.039408</td>\n",
              "                        <td id=\"T_6a0e457e_63c8_11eb_af2c_0242ac1c0002row0_col13\" class=\"data row0 col13\" >-0.001597</td>\n",
              "                        <td id=\"T_6a0e457e_63c8_11eb_af2c_0242ac1c0002row0_col14\" class=\"data row0 col14\" >-0.009748</td>\n",
              "            </tr>\n",
              "            <tr>\n",
              "                        <th id=\"T_6a0e457e_63c8_11eb_af2c_0242ac1c0002level0_row1\" class=\"row_heading level0 row1\" >passenger_count</th>\n",
              "                        <td id=\"T_6a0e457e_63c8_11eb_af2c_0242ac1c0002row1_col0\" class=\"data row1 col0\" >0.165798</td>\n",
              "                        <td id=\"T_6a0e457e_63c8_11eb_af2c_0242ac1c0002row1_col1\" class=\"data row1 col1\" >1.000000</td>\n",
              "                        <td id=\"T_6a0e457e_63c8_11eb_af2c_0242ac1c0002row1_col2\" class=\"data row1 col2\" >0.019496</td>\n",
              "                        <td id=\"T_6a0e457e_63c8_11eb_af2c_0242ac1c0002row1_col3\" class=\"data row1 col3\" >0.000271</td>\n",
              "                        <td id=\"T_6a0e457e_63c8_11eb_af2c_0242ac1c0002row1_col4\" class=\"data row1 col4\" >-0.006724</td>\n",
              "                        <td id=\"T_6a0e457e_63c8_11eb_af2c_0242ac1c0002row1_col5\" class=\"data row1 col5\" >-0.004947</td>\n",
              "                        <td id=\"T_6a0e457e_63c8_11eb_af2c_0242ac1c0002row1_col6\" class=\"data row1 col6\" >0.016564</td>\n",
              "                        <td id=\"T_6a0e457e_63c8_11eb_af2c_0242ac1c0002row1_col7\" class=\"data row1 col7\" >-0.000294</td>\n",
              "                        <td id=\"T_6a0e457e_63c8_11eb_af2c_0242ac1c0002row1_col8\" class=\"data row1 col8\" >-0.135692</td>\n",
              "                        <td id=\"T_6a0e457e_63c8_11eb_af2c_0242ac1c0002row1_col9\" class=\"data row1 col9\" >0.002063</td>\n",
              "                        <td id=\"T_6a0e457e_63c8_11eb_af2c_0242ac1c0002row1_col10\" class=\"data row1 col10\" >0.000780</td>\n",
              "                        <td id=\"T_6a0e457e_63c8_11eb_af2c_0242ac1c0002row1_col11\" class=\"data row1 col11\" >0.012475</td>\n",
              "                        <td id=\"T_6a0e457e_63c8_11eb_af2c_0242ac1c0002row1_col12\" class=\"data row1 col12\" >0.003783</td>\n",
              "                        <td id=\"T_6a0e457e_63c8_11eb_af2c_0242ac1c0002row1_col13\" class=\"data row1 col13\" >-0.000227</td>\n",
              "                        <td id=\"T_6a0e457e_63c8_11eb_af2c_0242ac1c0002row1_col14\" class=\"data row1 col14\" >0.013716</td>\n",
              "            </tr>\n",
              "            <tr>\n",
              "                        <th id=\"T_6a0e457e_63c8_11eb_af2c_0242ac1c0002level0_row2\" class=\"row_heading level0 row2\" >trip_distance</th>\n",
              "                        <td id=\"T_6a0e457e_63c8_11eb_af2c_0242ac1c0002row2_col0\" class=\"data row2 col0\" >0.025826</td>\n",
              "                        <td id=\"T_6a0e457e_63c8_11eb_af2c_0242ac1c0002row2_col1\" class=\"data row2 col1\" >0.019496</td>\n",
              "                        <td id=\"T_6a0e457e_63c8_11eb_af2c_0242ac1c0002row2_col2\" class=\"data row2 col2\" >1.000000</td>\n",
              "                        <td id=\"T_6a0e457e_63c8_11eb_af2c_0242ac1c0002row2_col3\" class=\"data row2 col3\" >0.144107</td>\n",
              "                        <td id=\"T_6a0e457e_63c8_11eb_af2c_0242ac1c0002row2_col4\" class=\"data row2 col4\" >-0.094794</td>\n",
              "                        <td id=\"T_6a0e457e_63c8_11eb_af2c_0242ac1c0002row2_col5\" class=\"data row2 col5\" >-0.107132</td>\n",
              "                        <td id=\"T_6a0e457e_63c8_11eb_af2c_0242ac1c0002row2_col6\" class=\"data row2 col6\" >-0.020566</td>\n",
              "                        <td id=\"T_6a0e457e_63c8_11eb_af2c_0242ac1c0002row2_col7\" class=\"data row2 col7\" >0.017491</td>\n",
              "                        <td id=\"T_6a0e457e_63c8_11eb_af2c_0242ac1c0002row2_col8\" class=\"data row2 col8\" >0.001632</td>\n",
              "                        <td id=\"T_6a0e457e_63c8_11eb_af2c_0242ac1c0002row2_col9\" class=\"data row2 col9\" >-0.085268</td>\n",
              "                        <td id=\"T_6a0e457e_63c8_11eb_af2c_0242ac1c0002row2_col10\" class=\"data row2 col10\" >0.506991</td>\n",
              "                        <td id=\"T_6a0e457e_63c8_11eb_af2c_0242ac1c0002row2_col11\" class=\"data row2 col11\" >0.615388</td>\n",
              "                        <td id=\"T_6a0e457e_63c8_11eb_af2c_0242ac1c0002row2_col12\" class=\"data row2 col12\" >0.018388</td>\n",
              "                        <td id=\"T_6a0e457e_63c8_11eb_af2c_0242ac1c0002row2_col13\" class=\"data row2 col13\" >0.021689</td>\n",
              "                        <td id=\"T_6a0e457e_63c8_11eb_af2c_0242ac1c0002row2_col14\" class=\"data row2 col14\" >-0.210402</td>\n",
              "            </tr>\n",
              "            <tr>\n",
              "                        <th id=\"T_6a0e457e_63c8_11eb_af2c_0242ac1c0002level0_row3\" class=\"row_heading level0 row3\" >RatecodeID</th>\n",
              "                        <td id=\"T_6a0e457e_63c8_11eb_af2c_0242ac1c0002row3_col0\" class=\"data row3 col0\" >0.009225</td>\n",
              "                        <td id=\"T_6a0e457e_63c8_11eb_af2c_0242ac1c0002row3_col1\" class=\"data row3 col1\" >0.000271</td>\n",
              "                        <td id=\"T_6a0e457e_63c8_11eb_af2c_0242ac1c0002row3_col2\" class=\"data row3 col2\" >0.144107</td>\n",
              "                        <td id=\"T_6a0e457e_63c8_11eb_af2c_0242ac1c0002row3_col3\" class=\"data row3 col3\" >1.000000</td>\n",
              "                        <td id=\"T_6a0e457e_63c8_11eb_af2c_0242ac1c0002row3_col4\" class=\"data row3 col4\" >-0.008881</td>\n",
              "                        <td id=\"T_6a0e457e_63c8_11eb_af2c_0242ac1c0002row3_col5\" class=\"data row3 col5\" >0.002503</td>\n",
              "                        <td id=\"T_6a0e457e_63c8_11eb_af2c_0242ac1c0002row3_col6\" class=\"data row3 col6\" >0.006139</td>\n",
              "                        <td id=\"T_6a0e457e_63c8_11eb_af2c_0242ac1c0002row3_col7\" class=\"data row3 col7\" >0.004868</td>\n",
              "                        <td id=\"T_6a0e457e_63c8_11eb_af2c_0242ac1c0002row3_col8\" class=\"data row3 col8\" >-0.022093</td>\n",
              "                        <td id=\"T_6a0e457e_63c8_11eb_af2c_0242ac1c0002row3_col9\" class=\"data row3 col9\" >-0.181959</td>\n",
              "                        <td id=\"T_6a0e457e_63c8_11eb_af2c_0242ac1c0002row3_col10\" class=\"data row3 col10\" >0.133305</td>\n",
              "                        <td id=\"T_6a0e457e_63c8_11eb_af2c_0242ac1c0002row3_col11\" class=\"data row3 col11\" >0.155296</td>\n",
              "                        <td id=\"T_6a0e457e_63c8_11eb_af2c_0242ac1c0002row3_col12\" class=\"data row3 col12\" >-0.039509</td>\n",
              "                        <td id=\"T_6a0e457e_63c8_11eb_af2c_0242ac1c0002row3_col13\" class=\"data row3 col13\" >0.005854</td>\n",
              "                        <td id=\"T_6a0e457e_63c8_11eb_af2c_0242ac1c0002row3_col14\" class=\"data row3 col14\" >-0.094704</td>\n",
              "            </tr>\n",
              "            <tr>\n",
              "                        <th id=\"T_6a0e457e_63c8_11eb_af2c_0242ac1c0002level0_row4\" class=\"row_heading level0 row4\" >PULocationID</th>\n",
              "                        <td id=\"T_6a0e457e_63c8_11eb_af2c_0242ac1c0002row4_col0\" class=\"data row4 col0\" >-0.006963</td>\n",
              "                        <td id=\"T_6a0e457e_63c8_11eb_af2c_0242ac1c0002row4_col1\" class=\"data row4 col1\" >-0.006724</td>\n",
              "                        <td id=\"T_6a0e457e_63c8_11eb_af2c_0242ac1c0002row4_col2\" class=\"data row4 col2\" >-0.094794</td>\n",
              "                        <td id=\"T_6a0e457e_63c8_11eb_af2c_0242ac1c0002row4_col3\" class=\"data row4 col3\" >-0.008881</td>\n",
              "                        <td id=\"T_6a0e457e_63c8_11eb_af2c_0242ac1c0002row4_col4\" class=\"data row4 col4\" >1.000000</td>\n",
              "                        <td id=\"T_6a0e457e_63c8_11eb_af2c_0242ac1c0002row4_col5\" class=\"data row4 col5\" >0.107039</td>\n",
              "                        <td id=\"T_6a0e457e_63c8_11eb_af2c_0242ac1c0002row4_col6\" class=\"data row4 col6\" >-0.028173</td>\n",
              "                        <td id=\"T_6a0e457e_63c8_11eb_af2c_0242ac1c0002row4_col7\" class=\"data row4 col7\" >-0.000217</td>\n",
              "                        <td id=\"T_6a0e457e_63c8_11eb_af2c_0242ac1c0002row4_col8\" class=\"data row4 col8\" >0.015927</td>\n",
              "                        <td id=\"T_6a0e457e_63c8_11eb_af2c_0242ac1c0002row4_col9\" class=\"data row4 col9\" >0.010784</td>\n",
              "                        <td id=\"T_6a0e457e_63c8_11eb_af2c_0242ac1c0002row4_col10\" class=\"data row4 col10\" >-0.027828</td>\n",
              "                        <td id=\"T_6a0e457e_63c8_11eb_af2c_0242ac1c0002row4_col11\" class=\"data row4 col11\" >-0.049324</td>\n",
              "                        <td id=\"T_6a0e457e_63c8_11eb_af2c_0242ac1c0002row4_col12\" class=\"data row4 col12\" >0.002824</td>\n",
              "                        <td id=\"T_6a0e457e_63c8_11eb_af2c_0242ac1c0002row4_col13\" class=\"data row4 col13\" >-0.000370</td>\n",
              "                        <td id=\"T_6a0e457e_63c8_11eb_af2c_0242ac1c0002row4_col14\" class=\"data row4 col14\" >0.127982</td>\n",
              "            </tr>\n",
              "            <tr>\n",
              "                        <th id=\"T_6a0e457e_63c8_11eb_af2c_0242ac1c0002level0_row5\" class=\"row_heading level0 row5\" >DOLocationID</th>\n",
              "                        <td id=\"T_6a0e457e_63c8_11eb_af2c_0242ac1c0002row5_col0\" class=\"data row5 col0\" >-0.002515</td>\n",
              "                        <td id=\"T_6a0e457e_63c8_11eb_af2c_0242ac1c0002row5_col1\" class=\"data row5 col1\" >-0.004947</td>\n",
              "                        <td id=\"T_6a0e457e_63c8_11eb_af2c_0242ac1c0002row5_col2\" class=\"data row5 col2\" >-0.107132</td>\n",
              "                        <td id=\"T_6a0e457e_63c8_11eb_af2c_0242ac1c0002row5_col3\" class=\"data row5 col3\" >0.002503</td>\n",
              "                        <td id=\"T_6a0e457e_63c8_11eb_af2c_0242ac1c0002row5_col4\" class=\"data row5 col4\" >0.107039</td>\n",
              "                        <td id=\"T_6a0e457e_63c8_11eb_af2c_0242ac1c0002row5_col5\" class=\"data row5 col5\" >1.000000</td>\n",
              "                        <td id=\"T_6a0e457e_63c8_11eb_af2c_0242ac1c0002row5_col6\" class=\"data row5 col6\" >-0.029818</td>\n",
              "                        <td id=\"T_6a0e457e_63c8_11eb_af2c_0242ac1c0002row5_col7\" class=\"data row5 col7\" >-0.000392</td>\n",
              "                        <td id=\"T_6a0e457e_63c8_11eb_af2c_0242ac1c0002row5_col8\" class=\"data row5 col8\" >0.014882</td>\n",
              "                        <td id=\"T_6a0e457e_63c8_11eb_af2c_0242ac1c0002row5_col9\" class=\"data row5 col9\" >0.028633</td>\n",
              "                        <td id=\"T_6a0e457e_63c8_11eb_af2c_0242ac1c0002row5_col10\" class=\"data row5 col10\" >-0.034075</td>\n",
              "                        <td id=\"T_6a0e457e_63c8_11eb_af2c_0242ac1c0002row5_col11\" class=\"data row5 col11\" >-0.065728</td>\n",
              "                        <td id=\"T_6a0e457e_63c8_11eb_af2c_0242ac1c0002row5_col12\" class=\"data row5 col12\" >-0.000009</td>\n",
              "                        <td id=\"T_6a0e457e_63c8_11eb_af2c_0242ac1c0002row5_col13\" class=\"data row5 col13\" >-0.000616</td>\n",
              "                        <td id=\"T_6a0e457e_63c8_11eb_af2c_0242ac1c0002row5_col14\" class=\"data row5 col14\" >0.129009</td>\n",
              "            </tr>\n",
              "            <tr>\n",
              "                        <th id=\"T_6a0e457e_63c8_11eb_af2c_0242ac1c0002level0_row6\" class=\"row_heading level0 row6\" >payment_type</th>\n",
              "                        <td id=\"T_6a0e457e_63c8_11eb_af2c_0242ac1c0002row6_col0\" class=\"data row6 col0\" >-0.012707</td>\n",
              "                        <td id=\"T_6a0e457e_63c8_11eb_af2c_0242ac1c0002row6_col1\" class=\"data row6 col1\" >0.016564</td>\n",
              "                        <td id=\"T_6a0e457e_63c8_11eb_af2c_0242ac1c0002row6_col2\" class=\"data row6 col2\" >-0.020566</td>\n",
              "                        <td id=\"T_6a0e457e_63c8_11eb_af2c_0242ac1c0002row6_col3\" class=\"data row6 col3\" >0.006139</td>\n",
              "                        <td id=\"T_6a0e457e_63c8_11eb_af2c_0242ac1c0002row6_col4\" class=\"data row6 col4\" >-0.028173</td>\n",
              "                        <td id=\"T_6a0e457e_63c8_11eb_af2c_0242ac1c0002row6_col5\" class=\"data row6 col5\" >-0.029818</td>\n",
              "                        <td id=\"T_6a0e457e_63c8_11eb_af2c_0242ac1c0002row6_col6\" class=\"data row6 col6\" >1.000000</td>\n",
              "                        <td id=\"T_6a0e457e_63c8_11eb_af2c_0242ac1c0002row6_col7\" class=\"data row6 col7\" >0.006944</td>\n",
              "                        <td id=\"T_6a0e457e_63c8_11eb_af2c_0242ac1c0002row6_col8\" class=\"data row6 col8\" >-0.021476</td>\n",
              "                        <td id=\"T_6a0e457e_63c8_11eb_af2c_0242ac1c0002row6_col9\" class=\"data row6 col9\" >-0.178163</td>\n",
              "                        <td id=\"T_6a0e457e_63c8_11eb_af2c_0242ac1c0002row6_col10\" class=\"data row6 col10\" >-0.484442</td>\n",
              "                        <td id=\"T_6a0e457e_63c8_11eb_af2c_0242ac1c0002row6_col11\" class=\"data row6 col11\" >-0.033897</td>\n",
              "                        <td id=\"T_6a0e457e_63c8_11eb_af2c_0242ac1c0002row6_col12\" class=\"data row6 col12\" >-0.221938</td>\n",
              "                        <td id=\"T_6a0e457e_63c8_11eb_af2c_0242ac1c0002row6_col13\" class=\"data row6 col13\" >0.004156</td>\n",
              "                        <td id=\"T_6a0e457e_63c8_11eb_af2c_0242ac1c0002row6_col14\" class=\"data row6 col14\" >-0.175131</td>\n",
              "            </tr>\n",
              "            <tr>\n",
              "                        <th id=\"T_6a0e457e_63c8_11eb_af2c_0242ac1c0002level0_row7\" class=\"row_heading level0 row7\" >fare_amount</th>\n",
              "                        <td id=\"T_6a0e457e_63c8_11eb_af2c_0242ac1c0002row7_col0\" class=\"data row7 col0\" >-0.001725</td>\n",
              "                        <td id=\"T_6a0e457e_63c8_11eb_af2c_0242ac1c0002row7_col1\" class=\"data row7 col1\" >-0.000294</td>\n",
              "                        <td id=\"T_6a0e457e_63c8_11eb_af2c_0242ac1c0002row7_col2\" class=\"data row7 col2\" >0.017491</td>\n",
              "                        <td id=\"T_6a0e457e_63c8_11eb_af2c_0242ac1c0002row7_col3\" class=\"data row7 col3\" >0.004868</td>\n",
              "                        <td id=\"T_6a0e457e_63c8_11eb_af2c_0242ac1c0002row7_col4\" class=\"data row7 col4\" >-0.000217</td>\n",
              "                        <td id=\"T_6a0e457e_63c8_11eb_af2c_0242ac1c0002row7_col5\" class=\"data row7 col5\" >-0.000392</td>\n",
              "                        <td id=\"T_6a0e457e_63c8_11eb_af2c_0242ac1c0002row7_col6\" class=\"data row7 col6\" >0.006944</td>\n",
              "                        <td id=\"T_6a0e457e_63c8_11eb_af2c_0242ac1c0002row7_col7\" class=\"data row7 col7\" >1.000000</td>\n",
              "                        <td id=\"T_6a0e457e_63c8_11eb_af2c_0242ac1c0002row7_col8\" class=\"data row7 col8\" >0.001580</td>\n",
              "                        <td id=\"T_6a0e457e_63c8_11eb_af2c_0242ac1c0002row7_col9\" class=\"data row7 col9\" >-0.006006</td>\n",
              "                        <td id=\"T_6a0e457e_63c8_11eb_af2c_0242ac1c0002row7_col10\" class=\"data row7 col10\" >0.010816</td>\n",
              "                        <td id=\"T_6a0e457e_63c8_11eb_af2c_0242ac1c0002row7_col11\" class=\"data row7 col11\" >0.012652</td>\n",
              "                        <td id=\"T_6a0e457e_63c8_11eb_af2c_0242ac1c0002row7_col12\" class=\"data row7 col12\" >-0.010373</td>\n",
              "                        <td id=\"T_6a0e457e_63c8_11eb_af2c_0242ac1c0002row7_col13\" class=\"data row7 col13\" >0.999976</td>\n",
              "                        <td id=\"T_6a0e457e_63c8_11eb_af2c_0242ac1c0002row7_col14\" class=\"data row7 col14\" >-0.004353</td>\n",
              "            </tr>\n",
              "            <tr>\n",
              "                        <th id=\"T_6a0e457e_63c8_11eb_af2c_0242ac1c0002level0_row8\" class=\"row_heading level0 row8\" >extra</th>\n",
              "                        <td id=\"T_6a0e457e_63c8_11eb_af2c_0242ac1c0002row8_col0\" class=\"data row8 col0\" >-0.858735</td>\n",
              "                        <td id=\"T_6a0e457e_63c8_11eb_af2c_0242ac1c0002row8_col1\" class=\"data row8 col1\" >-0.135692</td>\n",
              "                        <td id=\"T_6a0e457e_63c8_11eb_af2c_0242ac1c0002row8_col2\" class=\"data row8 col2\" >0.001632</td>\n",
              "                        <td id=\"T_6a0e457e_63c8_11eb_af2c_0242ac1c0002row8_col3\" class=\"data row8 col3\" >-0.022093</td>\n",
              "                        <td id=\"T_6a0e457e_63c8_11eb_af2c_0242ac1c0002row8_col4\" class=\"data row8 col4\" >0.015927</td>\n",
              "                        <td id=\"T_6a0e457e_63c8_11eb_af2c_0242ac1c0002row8_col5\" class=\"data row8 col5\" >0.014882</td>\n",
              "                        <td id=\"T_6a0e457e_63c8_11eb_af2c_0242ac1c0002row8_col6\" class=\"data row8 col6\" >-0.021476</td>\n",
              "                        <td id=\"T_6a0e457e_63c8_11eb_af2c_0242ac1c0002row8_col7\" class=\"data row8 col7\" >0.001580</td>\n",
              "                        <td id=\"T_6a0e457e_63c8_11eb_af2c_0242ac1c0002row8_col8\" class=\"data row8 col8\" >1.000000</td>\n",
              "                        <td id=\"T_6a0e457e_63c8_11eb_af2c_0242ac1c0002row8_col9\" class=\"data row8 col9\" >0.063720</td>\n",
              "                        <td id=\"T_6a0e457e_63c8_11eb_af2c_0242ac1c0002row8_col10\" class=\"data row8 col10\" >0.002841</td>\n",
              "                        <td id=\"T_6a0e457e_63c8_11eb_af2c_0242ac1c0002row8_col11\" class=\"data row8 col11\" >0.002643</td>\n",
              "                        <td id=\"T_6a0e457e_63c8_11eb_af2c_0242ac1c0002row8_col12\" class=\"data row8 col12\" >0.064156</td>\n",
              "                        <td id=\"T_6a0e457e_63c8_11eb_af2c_0242ac1c0002row8_col13\" class=\"data row8 col13\" >0.002209</td>\n",
              "                        <td id=\"T_6a0e457e_63c8_11eb_af2c_0242ac1c0002row8_col14\" class=\"data row8 col14\" >0.147109</td>\n",
              "            </tr>\n",
              "            <tr>\n",
              "                        <th id=\"T_6a0e457e_63c8_11eb_af2c_0242ac1c0002level0_row9\" class=\"row_heading level0 row9\" >mta_tax</th>\n",
              "                        <td id=\"T_6a0e457e_63c8_11eb_af2c_0242ac1c0002row9_col0\" class=\"data row9 col0\" >-0.028355</td>\n",
              "                        <td id=\"T_6a0e457e_63c8_11eb_af2c_0242ac1c0002row9_col1\" class=\"data row9 col1\" >0.002063</td>\n",
              "                        <td id=\"T_6a0e457e_63c8_11eb_af2c_0242ac1c0002row9_col2\" class=\"data row9 col2\" >-0.085268</td>\n",
              "                        <td id=\"T_6a0e457e_63c8_11eb_af2c_0242ac1c0002row9_col3\" class=\"data row9 col3\" >-0.181959</td>\n",
              "                        <td id=\"T_6a0e457e_63c8_11eb_af2c_0242ac1c0002row9_col4\" class=\"data row9 col4\" >0.010784</td>\n",
              "                        <td id=\"T_6a0e457e_63c8_11eb_af2c_0242ac1c0002row9_col5\" class=\"data row9 col5\" >0.028633</td>\n",
              "                        <td id=\"T_6a0e457e_63c8_11eb_af2c_0242ac1c0002row9_col6\" class=\"data row9 col6\" >-0.178163</td>\n",
              "                        <td id=\"T_6a0e457e_63c8_11eb_af2c_0242ac1c0002row9_col7\" class=\"data row9 col7\" >-0.006006</td>\n",
              "                        <td id=\"T_6a0e457e_63c8_11eb_af2c_0242ac1c0002row9_col8\" class=\"data row9 col8\" >0.063720</td>\n",
              "                        <td id=\"T_6a0e457e_63c8_11eb_af2c_0242ac1c0002row9_col9\" class=\"data row9 col9\" >1.000000</td>\n",
              "                        <td id=\"T_6a0e457e_63c8_11eb_af2c_0242ac1c0002row9_col10\" class=\"data row9 col10\" >-0.060702</td>\n",
              "                        <td id=\"T_6a0e457e_63c8_11eb_af2c_0242ac1c0002row9_col11\" class=\"data row9 col11\" >-0.168105</td>\n",
              "                        <td id=\"T_6a0e457e_63c8_11eb_af2c_0242ac1c0002row9_col12\" class=\"data row9 col12\" >0.744811</td>\n",
              "                        <td id=\"T_6a0e457e_63c8_11eb_af2c_0242ac1c0002row9_col13\" class=\"data row9 col13\" >-0.006107</td>\n",
              "                        <td id=\"T_6a0e457e_63c8_11eb_af2c_0242ac1c0002row9_col14\" class=\"data row9 col14\" >0.409854</td>\n",
              "            </tr>\n",
              "            <tr>\n",
              "                        <th id=\"T_6a0e457e_63c8_11eb_af2c_0242ac1c0002level0_row10\" class=\"row_heading level0 row10\" >tip_amount</th>\n",
              "                        <td id=\"T_6a0e457e_63c8_11eb_af2c_0242ac1c0002row10_col0\" class=\"data row10 col0\" >0.021642</td>\n",
              "                        <td id=\"T_6a0e457e_63c8_11eb_af2c_0242ac1c0002row10_col1\" class=\"data row10 col1\" >0.000780</td>\n",
              "                        <td id=\"T_6a0e457e_63c8_11eb_af2c_0242ac1c0002row10_col2\" class=\"data row10 col2\" >0.506991</td>\n",
              "                        <td id=\"T_6a0e457e_63c8_11eb_af2c_0242ac1c0002row10_col3\" class=\"data row10 col3\" >0.133305</td>\n",
              "                        <td id=\"T_6a0e457e_63c8_11eb_af2c_0242ac1c0002row10_col4\" class=\"data row10 col4\" >-0.027828</td>\n",
              "                        <td id=\"T_6a0e457e_63c8_11eb_af2c_0242ac1c0002row10_col5\" class=\"data row10 col5\" >-0.034075</td>\n",
              "                        <td id=\"T_6a0e457e_63c8_11eb_af2c_0242ac1c0002row10_col6\" class=\"data row10 col6\" >-0.484442</td>\n",
              "                        <td id=\"T_6a0e457e_63c8_11eb_af2c_0242ac1c0002row10_col7\" class=\"data row10 col7\" >0.010816</td>\n",
              "                        <td id=\"T_6a0e457e_63c8_11eb_af2c_0242ac1c0002row10_col8\" class=\"data row10 col8\" >0.002841</td>\n",
              "                        <td id=\"T_6a0e457e_63c8_11eb_af2c_0242ac1c0002row10_col9\" class=\"data row10 col9\" >-0.060702</td>\n",
              "                        <td id=\"T_6a0e457e_63c8_11eb_af2c_0242ac1c0002row10_col10\" class=\"data row10 col10\" >1.000000</td>\n",
              "                        <td id=\"T_6a0e457e_63c8_11eb_af2c_0242ac1c0002row10_col11\" class=\"data row10 col11\" >0.431176</td>\n",
              "                        <td id=\"T_6a0e457e_63c8_11eb_af2c_0242ac1c0002row10_col12\" class=\"data row10 col12\" >0.043125</td>\n",
              "                        <td id=\"T_6a0e457e_63c8_11eb_af2c_0242ac1c0002row10_col13\" class=\"data row10 col13\" >0.017104</td>\n",
              "                        <td id=\"T_6a0e457e_63c8_11eb_af2c_0242ac1c0002row10_col14\" class=\"data row10 col14\" >-0.008575</td>\n",
              "            </tr>\n",
              "            <tr>\n",
              "                        <th id=\"T_6a0e457e_63c8_11eb_af2c_0242ac1c0002level0_row11\" class=\"row_heading level0 row11\" >tolls_amount</th>\n",
              "                        <td id=\"T_6a0e457e_63c8_11eb_af2c_0242ac1c0002row11_col0\" class=\"data row11 col0\" >0.010144</td>\n",
              "                        <td id=\"T_6a0e457e_63c8_11eb_af2c_0242ac1c0002row11_col1\" class=\"data row11 col1\" >0.012475</td>\n",
              "                        <td id=\"T_6a0e457e_63c8_11eb_af2c_0242ac1c0002row11_col2\" class=\"data row11 col2\" >0.615388</td>\n",
              "                        <td id=\"T_6a0e457e_63c8_11eb_af2c_0242ac1c0002row11_col3\" class=\"data row11 col3\" >0.155296</td>\n",
              "                        <td id=\"T_6a0e457e_63c8_11eb_af2c_0242ac1c0002row11_col4\" class=\"data row11 col4\" >-0.049324</td>\n",
              "                        <td id=\"T_6a0e457e_63c8_11eb_af2c_0242ac1c0002row11_col5\" class=\"data row11 col5\" >-0.065728</td>\n",
              "                        <td id=\"T_6a0e457e_63c8_11eb_af2c_0242ac1c0002row11_col6\" class=\"data row11 col6\" >-0.033897</td>\n",
              "                        <td id=\"T_6a0e457e_63c8_11eb_af2c_0242ac1c0002row11_col7\" class=\"data row11 col7\" >0.012652</td>\n",
              "                        <td id=\"T_6a0e457e_63c8_11eb_af2c_0242ac1c0002row11_col8\" class=\"data row11 col8\" >0.002643</td>\n",
              "                        <td id=\"T_6a0e457e_63c8_11eb_af2c_0242ac1c0002row11_col9\" class=\"data row11 col9\" >-0.168105</td>\n",
              "                        <td id=\"T_6a0e457e_63c8_11eb_af2c_0242ac1c0002row11_col10\" class=\"data row11 col10\" >0.431176</td>\n",
              "                        <td id=\"T_6a0e457e_63c8_11eb_af2c_0242ac1c0002row11_col11\" class=\"data row11 col11\" >1.000000</td>\n",
              "                        <td id=\"T_6a0e457e_63c8_11eb_af2c_0242ac1c0002row11_col12\" class=\"data row11 col12\" >0.018226</td>\n",
              "                        <td id=\"T_6a0e457e_63c8_11eb_af2c_0242ac1c0002row11_col13\" class=\"data row11 col13\" >0.017665</td>\n",
              "                        <td id=\"T_6a0e457e_63c8_11eb_af2c_0242ac1c0002row11_col14\" class=\"data row11 col14\" >-0.124516</td>\n",
              "            </tr>\n",
              "            <tr>\n",
              "                        <th id=\"T_6a0e457e_63c8_11eb_af2c_0242ac1c0002level0_row12\" class=\"row_heading level0 row12\" >improvement_surcharge</th>\n",
              "                        <td id=\"T_6a0e457e_63c8_11eb_af2c_0242ac1c0002row12_col0\" class=\"data row12 col0\" >-0.039408</td>\n",
              "                        <td id=\"T_6a0e457e_63c8_11eb_af2c_0242ac1c0002row12_col1\" class=\"data row12 col1\" >0.003783</td>\n",
              "                        <td id=\"T_6a0e457e_63c8_11eb_af2c_0242ac1c0002row12_col2\" class=\"data row12 col2\" >0.018388</td>\n",
              "                        <td id=\"T_6a0e457e_63c8_11eb_af2c_0242ac1c0002row12_col3\" class=\"data row12 col3\" >-0.039509</td>\n",
              "                        <td id=\"T_6a0e457e_63c8_11eb_af2c_0242ac1c0002row12_col4\" class=\"data row12 col4\" >0.002824</td>\n",
              "                        <td id=\"T_6a0e457e_63c8_11eb_af2c_0242ac1c0002row12_col5\" class=\"data row12 col5\" >-0.000009</td>\n",
              "                        <td id=\"T_6a0e457e_63c8_11eb_af2c_0242ac1c0002row12_col6\" class=\"data row12 col6\" >-0.221938</td>\n",
              "                        <td id=\"T_6a0e457e_63c8_11eb_af2c_0242ac1c0002row12_col7\" class=\"data row12 col7\" >-0.010373</td>\n",
              "                        <td id=\"T_6a0e457e_63c8_11eb_af2c_0242ac1c0002row12_col8\" class=\"data row12 col8\" >0.064156</td>\n",
              "                        <td id=\"T_6a0e457e_63c8_11eb_af2c_0242ac1c0002row12_col9\" class=\"data row12 col9\" >0.744811</td>\n",
              "                        <td id=\"T_6a0e457e_63c8_11eb_af2c_0242ac1c0002row12_col10\" class=\"data row12 col10\" >0.043125</td>\n",
              "                        <td id=\"T_6a0e457e_63c8_11eb_af2c_0242ac1c0002row12_col11\" class=\"data row12 col11\" >0.018226</td>\n",
              "                        <td id=\"T_6a0e457e_63c8_11eb_af2c_0242ac1c0002row12_col12\" class=\"data row12 col12\" >1.000000</td>\n",
              "                        <td id=\"T_6a0e457e_63c8_11eb_af2c_0242ac1c0002row12_col13\" class=\"data row12 col13\" >-0.009475</td>\n",
              "                        <td id=\"T_6a0e457e_63c8_11eb_af2c_0242ac1c0002row12_col14\" class=\"data row12 col14\" >0.320042</td>\n",
              "            </tr>\n",
              "            <tr>\n",
              "                        <th id=\"T_6a0e457e_63c8_11eb_af2c_0242ac1c0002level0_row13\" class=\"row_heading level0 row13\" >total_amount</th>\n",
              "                        <td id=\"T_6a0e457e_63c8_11eb_af2c_0242ac1c0002row13_col0\" class=\"data row13 col0\" >-0.001597</td>\n",
              "                        <td id=\"T_6a0e457e_63c8_11eb_af2c_0242ac1c0002row13_col1\" class=\"data row13 col1\" >-0.000227</td>\n",
              "                        <td id=\"T_6a0e457e_63c8_11eb_af2c_0242ac1c0002row13_col2\" class=\"data row13 col2\" >0.021689</td>\n",
              "                        <td id=\"T_6a0e457e_63c8_11eb_af2c_0242ac1c0002row13_col3\" class=\"data row13 col3\" >0.005854</td>\n",
              "                        <td id=\"T_6a0e457e_63c8_11eb_af2c_0242ac1c0002row13_col4\" class=\"data row13 col4\" >-0.000370</td>\n",
              "                        <td id=\"T_6a0e457e_63c8_11eb_af2c_0242ac1c0002row13_col5\" class=\"data row13 col5\" >-0.000616</td>\n",
              "                        <td id=\"T_6a0e457e_63c8_11eb_af2c_0242ac1c0002row13_col6\" class=\"data row13 col6\" >0.004156</td>\n",
              "                        <td id=\"T_6a0e457e_63c8_11eb_af2c_0242ac1c0002row13_col7\" class=\"data row13 col7\" >0.999976</td>\n",
              "                        <td id=\"T_6a0e457e_63c8_11eb_af2c_0242ac1c0002row13_col8\" class=\"data row13 col8\" >0.002209</td>\n",
              "                        <td id=\"T_6a0e457e_63c8_11eb_af2c_0242ac1c0002row13_col9\" class=\"data row13 col9\" >-0.006107</td>\n",
              "                        <td id=\"T_6a0e457e_63c8_11eb_af2c_0242ac1c0002row13_col10\" class=\"data row13 col10\" >0.017104</td>\n",
              "                        <td id=\"T_6a0e457e_63c8_11eb_af2c_0242ac1c0002row13_col11\" class=\"data row13 col11\" >0.017665</td>\n",
              "                        <td id=\"T_6a0e457e_63c8_11eb_af2c_0242ac1c0002row13_col12\" class=\"data row13 col12\" >-0.009475</td>\n",
              "                        <td id=\"T_6a0e457e_63c8_11eb_af2c_0242ac1c0002row13_col13\" class=\"data row13 col13\" >1.000000</td>\n",
              "                        <td id=\"T_6a0e457e_63c8_11eb_af2c_0242ac1c0002row13_col14\" class=\"data row13 col14\" >-0.003494</td>\n",
              "            </tr>\n",
              "            <tr>\n",
              "                        <th id=\"T_6a0e457e_63c8_11eb_af2c_0242ac1c0002level0_row14\" class=\"row_heading level0 row14\" >congestion_surcharge</th>\n",
              "                        <td id=\"T_6a0e457e_63c8_11eb_af2c_0242ac1c0002row14_col0\" class=\"data row14 col0\" >-0.009748</td>\n",
              "                        <td id=\"T_6a0e457e_63c8_11eb_af2c_0242ac1c0002row14_col1\" class=\"data row14 col1\" >0.013716</td>\n",
              "                        <td id=\"T_6a0e457e_63c8_11eb_af2c_0242ac1c0002row14_col2\" class=\"data row14 col2\" >-0.210402</td>\n",
              "                        <td id=\"T_6a0e457e_63c8_11eb_af2c_0242ac1c0002row14_col3\" class=\"data row14 col3\" >-0.094704</td>\n",
              "                        <td id=\"T_6a0e457e_63c8_11eb_af2c_0242ac1c0002row14_col4\" class=\"data row14 col4\" >0.127982</td>\n",
              "                        <td id=\"T_6a0e457e_63c8_11eb_af2c_0242ac1c0002row14_col5\" class=\"data row14 col5\" >0.129009</td>\n",
              "                        <td id=\"T_6a0e457e_63c8_11eb_af2c_0242ac1c0002row14_col6\" class=\"data row14 col6\" >-0.175131</td>\n",
              "                        <td id=\"T_6a0e457e_63c8_11eb_af2c_0242ac1c0002row14_col7\" class=\"data row14 col7\" >-0.004353</td>\n",
              "                        <td id=\"T_6a0e457e_63c8_11eb_af2c_0242ac1c0002row14_col8\" class=\"data row14 col8\" >0.147109</td>\n",
              "                        <td id=\"T_6a0e457e_63c8_11eb_af2c_0242ac1c0002row14_col9\" class=\"data row14 col9\" >0.409854</td>\n",
              "                        <td id=\"T_6a0e457e_63c8_11eb_af2c_0242ac1c0002row14_col10\" class=\"data row14 col10\" >-0.008575</td>\n",
              "                        <td id=\"T_6a0e457e_63c8_11eb_af2c_0242ac1c0002row14_col11\" class=\"data row14 col11\" >-0.124516</td>\n",
              "                        <td id=\"T_6a0e457e_63c8_11eb_af2c_0242ac1c0002row14_col12\" class=\"data row14 col12\" >0.320042</td>\n",
              "                        <td id=\"T_6a0e457e_63c8_11eb_af2c_0242ac1c0002row14_col13\" class=\"data row14 col13\" >-0.003494</td>\n",
              "                        <td id=\"T_6a0e457e_63c8_11eb_af2c_0242ac1c0002row14_col14\" class=\"data row14 col14\" >1.000000</td>\n",
              "            </tr>\n",
              "    </tbody></table>"
            ],
            "text/plain": [
              "<pandas.io.formats.style.Styler at 0x7fdd16a9c668>"
            ]
          },
          "metadata": {
            "tags": []
          },
          "execution_count": 8
        }
      ]
    },
    {
      "cell_type": "code",
      "metadata": {
        "id": "k8igHaRaIjMF"
      },
      "source": [
        "#sns.pairplot(df) # not running this because it took more than 10 minute then crashed beacuase it used all the RAM"
      ],
      "execution_count": 9,
      "outputs": []
    },
    {
      "cell_type": "markdown",
      "metadata": {
        "id": "9IhRygRcJBBy"
      },
      "source": [
        "4. Split your data into training and testing datasets..."
      ]
    },
    {
      "cell_type": "code",
      "metadata": {
        "id": "LAdc8dOSJEof"
      },
      "source": [
        "from sklearn.model_selection import train_test_split\r\n",
        "# select the x and y \r\n",
        "x = df.fare_amount\r\n",
        "# target \r\n",
        "y = df.total_amount\r\n",
        "\r\n",
        "#split\r\n",
        "x_train, x_test, y_train, y_test = train_test_split(x, y, train_size=0.7)"
      ],
      "execution_count": 10,
      "outputs": []
    },
    {
      "cell_type": "code",
      "metadata": {
        "colab": {
          "base_uri": "https://localhost:8080/"
        },
        "id": "xKr_91pAc-F_",
        "outputId": "0d69cb3b-9612-437e-9a4f-27c42a4e80cc"
      },
      "source": [
        "x_train"
      ],
      "execution_count": 11,
      "outputs": [
        {
          "output_type": "execute_result",
          "data": {
            "text/plain": [
              "478785    52.0\n",
              "217425     5.0\n",
              "144222    21.0\n",
              "350367     7.0\n",
              "20812     18.0\n",
              "          ... \n",
              "193513     6.5\n",
              "176083    19.5\n",
              "173296    10.5\n",
              "264315    52.0\n",
              "23241      4.0\n",
              "Name: fare_amount, Length: 337919, dtype: float64"
            ]
          },
          "metadata": {
            "tags": []
          },
          "execution_count": 11
        }
      ]
    },
    {
      "cell_type": "code",
      "metadata": {
        "colab": {
          "base_uri": "https://localhost:8080/"
        },
        "id": "O0B2mcwKdJOu",
        "outputId": "e0e46064-8570-469f-a2a2-edc93d5c2ce7"
      },
      "source": [
        "y_train"
      ],
      "execution_count": 12,
      "outputs": [
        {
          "output_type": "execute_result",
          "data": {
            "text/plain": [
              "478785    61.53\n",
              "217425     9.95\n",
              "144222    24.30\n",
              "350367    12.43\n",
              "20812     25.56\n",
              "          ...  \n",
              "193513    11.80\n",
              "176083    27.36\n",
              "173296    15.80\n",
              "264315    70.63\n",
              "23241      7.80\n",
              "Name: total_amount, Length: 337919, dtype: float64"
            ]
          },
          "metadata": {
            "tags": []
          },
          "execution_count": 12
        }
      ]
    },
    {
      "cell_type": "markdown",
      "metadata": {
        "id": "vAEzLu-7ItC5"
      },
      "source": [
        "5. Import, create, and fit a LinearRegression model with 1 variable"
      ]
    },
    {
      "cell_type": "code",
      "metadata": {
        "id": "34aVrxcNIv4d"
      },
      "source": [
        "from sklearn.linear_model import LinearRegression\r\n",
        "lr = LinearRegression()"
      ],
      "execution_count": 13,
      "outputs": []
    },
    {
      "cell_type": "code",
      "metadata": {
        "id": "vwu1bH1_JK6V",
        "colab": {
          "base_uri": "https://localhost:8080/"
        },
        "outputId": "f114b555-3b31-4b1b-f210-f317ab0df0d3"
      },
      "source": [
        "lr.fit(pd.DataFrame(x_train) , y_train)"
      ],
      "execution_count": 14,
      "outputs": [
        {
          "output_type": "execute_result",
          "data": {
            "text/plain": [
              "LinearRegression(copy_X=True, fit_intercept=True, n_jobs=None, normalize=False)"
            ]
          },
          "metadata": {
            "tags": []
          },
          "execution_count": 14
        }
      ]
    },
    {
      "cell_type": "markdown",
      "metadata": {
        "id": "C4jtgDpVIysR"
      },
      "source": [
        "6. Make predictions on your `X_test` values..."
      ]
    },
    {
      "cell_type": "code",
      "metadata": {
        "id": "6n7j9lyYJQhj"
      },
      "source": [
        "preds = lr.predict(pd.DataFrame(x_test))"
      ],
      "execution_count": 15,
      "outputs": []
    },
    {
      "cell_type": "code",
      "metadata": {
        "id": "Yt0ohN6bJR9s",
        "colab": {
          "base_uri": "https://localhost:8080/"
        },
        "outputId": "26436f3b-dfac-4ee4-9207-421a114a3cda"
      },
      "source": [
        "# what do they look like? (show me some of the predictions)x\r\n",
        "preds"
      ],
      "execution_count": 16,
      "outputs": [
        {
          "output_type": "execute_result",
          "data": {
            "text/plain": [
              "array([19.55144739, 15.95463121, 12.35781504, ..., 11.15887631,\n",
              "       18.35250867, 13.55675376])"
            ]
          },
          "metadata": {
            "tags": []
          },
          "execution_count": 16
        }
      ]
    },
    {
      "cell_type": "markdown",
      "metadata": {
        "id": "0MH2sdLGJYGo"
      },
      "source": [
        "7. Score your model...\r\n",
        "- r2_score\r\n",
        "- other metric (of your choice...)"
      ]
    },
    {
      "cell_type": "code",
      "metadata": {
        "id": "qzEn_dRzJW7z",
        "colab": {
          "base_uri": "https://localhost:8080/"
        },
        "outputId": "c5f9d9b9-a682-4d18-eae7-bb905f4a6ba3"
      },
      "source": [
        "from sklearn.metrics import *\r\n",
        "r2_score(y_test , preds)"
      ],
      "execution_count": 17,
      "outputs": [
        {
          "output_type": "execute_result",
          "data": {
            "text/plain": [
              "0.9604185544575797"
            ]
          },
          "metadata": {
            "tags": []
          },
          "execution_count": 17
        }
      ]
    },
    {
      "cell_type": "code",
      "metadata": {
        "id": "eTgWdLT1JgFj",
        "colab": {
          "base_uri": "https://localhost:8080/"
        },
        "outputId": "3f0d28c5-aa33-4cb0-f053-7a105550c54b"
      },
      "source": [
        "mean_absolute_error(y_test , preds)"
      ],
      "execution_count": 18,
      "outputs": [
        {
          "output_type": "execute_result",
          "data": {
            "text/plain": [
              "2.4525566453140137"
            ]
          },
          "metadata": {
            "tags": []
          },
          "execution_count": 18
        }
      ]
    },
    {
      "cell_type": "code",
      "metadata": {
        "colab": {
          "base_uri": "https://localhost:8080/"
        },
        "id": "XiwWIDAbgWBq",
        "outputId": "801a6d94-39dd-4529-e55f-7977da94b159"
      },
      "source": [
        "mean_squared_error(y_test , preds)"
      ],
      "execution_count": 19,
      "outputs": [
        {
          "output_type": "execute_result",
          "data": {
            "text/plain": [
              "43400.504226724595"
            ]
          },
          "metadata": {
            "tags": []
          },
          "execution_count": 19
        }
      ]
    },
    {
      "cell_type": "code",
      "metadata": {
        "colab": {
          "base_uri": "https://localhost:8080/"
        },
        "id": "gnAgLbHLgkOI",
        "outputId": "eb5217dd-8aaf-4b3d-f4af-971701609f73"
      },
      "source": [
        "explained_variance_score(y_test , preds)"
      ],
      "execution_count": 20,
      "outputs": [
        {
          "output_type": "execute_result",
          "data": {
            "text/plain": [
              "0.960418836574902"
            ]
          },
          "metadata": {
            "tags": []
          },
          "execution_count": 20
        }
      ]
    },
    {
      "cell_type": "markdown",
      "metadata": {
        "id": "KDpe83ogJgg3"
      },
      "source": [
        "8. Create, and fit a LinearRegression model with **more than** 1 variable"
      ]
    },
    {
      "cell_type": "code",
      "metadata": {
        "id": "ihXsRPtTJp7m"
      },
      "source": [
        "# these list of variables had a positive correlation with the target (total amount)\r\n",
        "# fare_amount = 0.999976 ,trip_distance = 0.021689 , RatecodeID = 0.005854 , payment_type = 0.004156\r\n",
        "# extra = 0.002209 , tip_amount  = 0.017104 , tolls_amount = 0.017665\r\n",
        "\r\n",
        "# picked the hgihest 3 \r\n",
        "x = df[['fare_amount' , 'trip_distance' , 'tolls_amount' , 'tip_amount']]\r\n",
        "y = df.total_amount\r\n",
        "\r\n",
        "#split\r\n",
        "x_train, x_test, y_train, y_test = train_test_split(x, y, train_size=0.7)"
      ],
      "execution_count": 21,
      "outputs": []
    },
    {
      "cell_type": "code",
      "metadata": {
        "id": "7q6mkOr6JsAk",
        "colab": {
          "base_uri": "https://localhost:8080/"
        },
        "outputId": "b82b5244-c4f6-4233-e24c-026af150ab7e"
      },
      "source": [
        "lr.fit(pd.DataFrame(x_train) , y_train)"
      ],
      "execution_count": 22,
      "outputs": [
        {
          "output_type": "execute_result",
          "data": {
            "text/plain": [
              "LinearRegression(copy_X=True, fit_intercept=True, n_jobs=None, normalize=False)"
            ]
          },
          "metadata": {
            "tags": []
          },
          "execution_count": 22
        }
      ]
    },
    {
      "cell_type": "markdown",
      "metadata": {
        "id": "SJCKwpNXJutC"
      },
      "source": [
        "9. Make predictions on your `X_test` values..."
      ]
    },
    {
      "cell_type": "code",
      "metadata": {
        "id": "IdGtbPJJJvjd"
      },
      "source": [
        "preds = lr.predict(x_test)"
      ],
      "execution_count": 23,
      "outputs": []
    },
    {
      "cell_type": "code",
      "metadata": {
        "id": "V8fRIPrqJzF5",
        "colab": {
          "base_uri": "https://localhost:8080/"
        },
        "outputId": "82390fd5-68fc-431b-f5be-00fa460ec01a"
      },
      "source": [
        "# what do they look like? (show me some of the predictions)\r\n",
        "preds"
      ],
      "execution_count": 24,
      "outputs": [
        {
          "output_type": "execute_result",
          "data": {
            "text/plain": [
              "array([60.91782821, 12.56566988,  9.42954666, ..., 12.88249815,\n",
              "       22.90909675, 15.85894959])"
            ]
          },
          "metadata": {
            "tags": []
          },
          "execution_count": 24
        }
      ]
    },
    {
      "cell_type": "markdown",
      "metadata": {
        "id": "8rdbAft1JzZR"
      },
      "source": [
        "10. Score your model...\r\n",
        "- r2_score\r\n",
        "- other metric (of your choice...)"
      ]
    },
    {
      "cell_type": "code",
      "metadata": {
        "id": "uQn0WPxbJ1wi",
        "colab": {
          "base_uri": "https://localhost:8080/"
        },
        "outputId": "cb2efb8a-c6b4-4e37-d250-2267e67014e8"
      },
      "source": [
        "r2_score(y_test , preds)"
      ],
      "execution_count": 25,
      "outputs": [
        {
          "output_type": "execute_result",
          "data": {
            "text/plain": [
              "0.9999332384916589"
            ]
          },
          "metadata": {
            "tags": []
          },
          "execution_count": 25
        }
      ]
    },
    {
      "cell_type": "code",
      "metadata": {
        "id": "wGAaIzfaJ16p",
        "colab": {
          "base_uri": "https://localhost:8080/"
        },
        "outputId": "53a98cc8-69be-4fbf-8e4f-1da915e678a7"
      },
      "source": [
        "mean_absolute_error(y_test , preds)"
      ],
      "execution_count": 26,
      "outputs": [
        {
          "output_type": "execute_result",
          "data": {
            "text/plain": [
              "0.546848712851623"
            ]
          },
          "metadata": {
            "tags": []
          },
          "execution_count": 26
        }
      ]
    },
    {
      "cell_type": "code",
      "metadata": {
        "colab": {
          "base_uri": "https://localhost:8080/"
        },
        "id": "fTHghctHkjYH",
        "outputId": "dba4894e-1f18-4032-fa65-ca67bfd8cc1f"
      },
      "source": [
        "mean_squared_error(y_test , preds)"
      ],
      "execution_count": 27,
      "outputs": [
        {
          "output_type": "execute_result",
          "data": {
            "text/plain": [
              "73.20294587117586"
            ]
          },
          "metadata": {
            "tags": []
          },
          "execution_count": 27
        }
      ]
    },
    {
      "cell_type": "code",
      "metadata": {
        "colab": {
          "base_uri": "https://localhost:8080/"
        },
        "id": "1wcW_GuDkoMs",
        "outputId": "42393256-391a-4067-92de-880ff8040e3b"
      },
      "source": [
        "explained_variance_score(y_test , preds)"
      ],
      "execution_count": 28,
      "outputs": [
        {
          "output_type": "execute_result",
          "data": {
            "text/plain": [
              "0.9999332391237468"
            ]
          },
          "metadata": {
            "tags": []
          },
          "execution_count": 28
        }
      ]
    },
    {
      "cell_type": "markdown",
      "metadata": {
        "id": "mdnhA-_aJ2QG"
      },
      "source": [
        "11. Which model is better? Why?"
      ]
    },
    {
      "cell_type": "markdown",
      "metadata": {
        "id": "385yTrGvKJ2I"
      },
      "source": [
        "*   *The Model with the multiple columns who had the hgihest correlation with the target produced higher score*\r\n",
        "\r\n"
      ]
    },
    {
      "cell_type": "markdown",
      "metadata": {
        "id": "YXq7N9wPKISw"
      },
      "source": [
        "12. Perform GridSearchCV with the better data"
      ]
    },
    {
      "cell_type": "code",
      "metadata": {
        "id": "JQI1-xzHKZ5t"
      },
      "source": [
        "from sklearn.model_selection import GridSearchCV\r\n",
        "\r\n",
        "p_grid = {'fit_intercept': [True, False],\r\n",
        "          'normalize': [True, False]}\r\n",
        "\r\n",
        "grid = GridSearchCV(lr, p_grid)"
      ],
      "execution_count": 29,
      "outputs": []
    },
    {
      "cell_type": "code",
      "metadata": {
        "id": "ZuD63G_ARo0U",
        "colab": {
          "base_uri": "https://localhost:8080/"
        },
        "outputId": "25e66260-6bd8-43f1-aafb-16a9e9a25101"
      },
      "source": [
        "grid.fit(x_train, y_train)"
      ],
      "execution_count": 30,
      "outputs": [
        {
          "output_type": "execute_result",
          "data": {
            "text/plain": [
              "GridSearchCV(cv=None, error_score=nan,\n",
              "             estimator=LinearRegression(copy_X=True, fit_intercept=True,\n",
              "                                        n_jobs=None, normalize=False),\n",
              "             iid='deprecated', n_jobs=None,\n",
              "             param_grid={'fit_intercept': [True, False],\n",
              "                         'normalize': [True, False]},\n",
              "             pre_dispatch='2*n_jobs', refit=True, return_train_score=False,\n",
              "             scoring=None, verbose=0)"
            ]
          },
          "metadata": {
            "tags": []
          },
          "execution_count": 30
        }
      ]
    },
    {
      "cell_type": "code",
      "metadata": {
        "id": "rkVFXnrORpMN",
        "colab": {
          "base_uri": "https://localhost:8080/"
        },
        "outputId": "ba4bccb2-713a-4ce6-9dc3-43411a7c1e53"
      },
      "source": [
        "grid.best_params_"
      ],
      "execution_count": 31,
      "outputs": [
        {
          "output_type": "execute_result",
          "data": {
            "text/plain": [
              "{'fit_intercept': True, 'normalize': True}"
            ]
          },
          "metadata": {
            "tags": []
          },
          "execution_count": 31
        }
      ]
    },
    {
      "cell_type": "markdown",
      "metadata": {
        "id": "OkFfmndgKagk"
      },
      "source": [
        "13. Update the hyperparameters of your model (create and fit a new model with the results of GridSerachCV)"
      ]
    },
    {
      "cell_type": "code",
      "metadata": {
        "id": "tMbtfYrsKg7u"
      },
      "source": [
        "lr= LinearRegression(fit_intercept = True, normalize = True)"
      ],
      "execution_count": 32,
      "outputs": []
    },
    {
      "cell_type": "code",
      "metadata": {
        "id": "ZuYB-9_qKh2o",
        "colab": {
          "base_uri": "https://localhost:8080/"
        },
        "outputId": "347857f8-b36f-43f4-c6dd-3243ccf7d5aa"
      },
      "source": [
        "lr.fit(x_train, y_train)"
      ],
      "execution_count": 33,
      "outputs": [
        {
          "output_type": "execute_result",
          "data": {
            "text/plain": [
              "LinearRegression(copy_X=True, fit_intercept=True, n_jobs=None, normalize=True)"
            ]
          },
          "metadata": {
            "tags": []
          },
          "execution_count": 33
        }
      ]
    },
    {
      "cell_type": "code",
      "metadata": {
        "id": "TS_Ieq3ZlzkR"
      },
      "source": [
        "preds = lr.predict(x_test)"
      ],
      "execution_count": 34,
      "outputs": []
    },
    {
      "cell_type": "markdown",
      "metadata": {
        "id": "RTih62jiKhHd"
      },
      "source": [
        "14. Score the new model... \r\n",
        "- r2_score\r\n",
        "- some other metric of your choice"
      ]
    },
    {
      "cell_type": "code",
      "metadata": {
        "id": "bHglwkVGKkW7",
        "colab": {
          "base_uri": "https://localhost:8080/"
        },
        "outputId": "29fe26ad-918e-479f-8903-b4bdc545ecf4"
      },
      "source": [
        "r2_score(y_test , preds)"
      ],
      "execution_count": 35,
      "outputs": [
        {
          "output_type": "execute_result",
          "data": {
            "text/plain": [
              "0.9999332384916589"
            ]
          },
          "metadata": {
            "tags": []
          },
          "execution_count": 35
        }
      ]
    },
    {
      "cell_type": "code",
      "metadata": {
        "id": "AgsbHIhqKoQr",
        "colab": {
          "base_uri": "https://localhost:8080/"
        },
        "outputId": "62af0a2b-2646-4ca2-f57a-9413458558df"
      },
      "source": [
        "mean_absolute_error(y_test , preds)"
      ],
      "execution_count": 36,
      "outputs": [
        {
          "output_type": "execute_result",
          "data": {
            "text/plain": [
              "0.5468487128516237"
            ]
          },
          "metadata": {
            "tags": []
          },
          "execution_count": 36
        }
      ]
    },
    {
      "cell_type": "code",
      "metadata": {
        "colab": {
          "base_uri": "https://localhost:8080/"
        },
        "id": "26wppJwImSA-",
        "outputId": "99041bd1-4fd4-40d0-f8a5-4e44838c52ae"
      },
      "source": [
        "mean_squared_error(y_test , preds)"
      ],
      "execution_count": 37,
      "outputs": [
        {
          "output_type": "execute_result",
          "data": {
            "text/plain": [
              "73.20294587118366"
            ]
          },
          "metadata": {
            "tags": []
          },
          "execution_count": 37
        }
      ]
    },
    {
      "cell_type": "markdown",
      "metadata": {
        "id": "c3uY8_MnKpXQ"
      },
      "source": [
        "Did the score change at all? Why?"
      ]
    },
    {
      "cell_type": "markdown",
      "metadata": {
        "id": "8xeiVnQSKtYa"
      },
      "source": [
        "*   *The score didnt change because only the normalize values was changed and it didnt make a big diffrent*\r\n"
      ]
    }
  ]
}