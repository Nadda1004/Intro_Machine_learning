{
  "nbformat": 4,
  "nbformat_minor": 0,
  "metadata": {
    "kernelspec": {
      "display_name": "Python 3",
      "language": "python",
      "name": "python3"
    },
    "language_info": {
      "codemirror_mode": {
        "name": "ipython",
        "version": 3
      },
      "file_extension": ".py",
      "mimetype": "text/x-python",
      "name": "python",
      "nbconvert_exporter": "python",
      "pygments_lexer": "ipython3",
      "version": "3.8.3"
    },
    "colab": {
      "name": "W1_D1_cost_function_assignment.ipynb",
      "provenance": [],
      "collapsed_sections": [],
      "include_colab_link": true
    }
  },
  "cells": [
    {
      "cell_type": "markdown",
      "metadata": {
        "id": "view-in-github",
        "colab_type": "text"
      },
      "source": [
        "<a href=\"https://colab.research.google.com/github/Nadda1004/Intro_Machine_learning/blob/main/W1_D1_cost_function_assignment.ipynb\" target=\"_parent\"><img src=\"https://colab.research.google.com/assets/colab-badge.svg\" alt=\"Open In Colab\"/></a>"
      ]
    },
    {
      "cell_type": "markdown",
      "metadata": {
        "id": "Ou8WJhpwJxgH"
      },
      "source": [
        "### Heuristic Models (Cost Function Extension)\n",
        "Look at the Seattle weather in the **data** folder. Come up with a heuristic model to predict if it will rain today. Keep in mind this is a time series, which means that you only know what happened historically (before a given date). One example of a heuristic model is: It will rain tomorrow if it rained more than 1 inch (>1.0 PRCP) today. Describe your heuristic model in the next cell."
      ]
    },
    {
      "cell_type": "markdown",
      "metadata": {
        "id": "9WHuxvx0JxgP"
      },
      "source": [
        "**your model here**  \n",
        "\n",
        "Examples:  \n",
        "\n",
        "If rained yesterday it will rain today.  \n",
        "If it rained yesterday or the day before it will rain today.\n"
      ]
    },
    {
      "cell_type": "code",
      "metadata": {
        "id": "g0VoYQs_JxgQ"
      },
      "source": [
        "#here is an example of how to build and populate a hurestic model\n",
        "\n",
        "import pandas as pd\n",
        "\n",
        "df = pd.read_csv('https://raw.githubusercontent.com/gumdropsteve/datasets/master/seattle_weather_1948-2017.csv')\n",
        "\n",
        "\n",
        "numrows = 25549 # can be as large as 25549\n",
        "\n",
        "#create an empty dataframe to hold 100 values\n",
        "heuristic_df = pd.DataFrame({'yesterday':[0.0]*numrows,\n",
        "                             'today':[0.0]*numrows,\n",
        "                             'tomorrow':[0.0]*numrows,\n",
        "                             'guess':[False]*numrows, #logical guess\n",
        "                             'rain_tomorrow':[False]*numrows, #historical observation\n",
        "                             'correct':[False]*numrows, #TRUE if your guess matches the historical observation\n",
        "                             'true_positive':[False]*numrows, #TRUE If you said it would rain and it did\n",
        "                             'false_positive':[False]*numrows,#TRUE If you sait id would rain and it didn't\n",
        "                             'true_negative':[False]*numrows, #TRUE if you said it wouldn't rain and it didn't\n",
        "                             'false_negative':[False]*numrows}) #TRUE if you said it wouldn't raing and it did\n",
        "\n",
        "#sort columns for convience\n",
        "seq = ['yesterday',\n",
        "       'today',\n",
        "       'tomorrow',\n",
        "       'guess',\n",
        "       'rain_tomorrow',\n",
        "       'correct',\n",
        "       'true_positive',\n",
        "       'false_positive',\n",
        "       'true_negative',\n",
        "       'false_negative']\n",
        "heuristic_df = heuristic_df.reindex(columns=seq)"
      ],
      "execution_count": 1,
      "outputs": []
    },
    {
      "cell_type": "code",
      "metadata": {
        "colab": {
          "base_uri": "https://localhost:8080/"
        },
        "id": "T4fTazyftkkH",
        "outputId": "55a9a94b-69bc-44c2-e997-925fde640165"
      },
      "source": [
        "df.shape"
      ],
      "execution_count": 2,
      "outputs": [
        {
          "output_type": "execute_result",
          "data": {
            "text/plain": [
              "(25551, 5)"
            ]
          },
          "metadata": {
            "tags": []
          },
          "execution_count": 2
        }
      ]
    },
    {
      "cell_type": "code",
      "metadata": {
        "colab": {
          "base_uri": "https://localhost:8080/"
        },
        "id": "ViycKTstyGFL",
        "outputId": "f44eeaa5-206c-4635-bbc9-b236e1b01c1c"
      },
      "source": [
        "heuristic_df.shape"
      ],
      "execution_count": 3,
      "outputs": [
        {
          "output_type": "execute_result",
          "data": {
            "text/plain": [
              "(25549, 10)"
            ]
          },
          "metadata": {
            "tags": []
          },
          "execution_count": 3
        }
      ]
    },
    {
      "cell_type": "code",
      "metadata": {
        "colab": {
          "base_uri": "https://localhost:8080/",
          "height": 197
        },
        "id": "Wbh5vpFphNrX",
        "outputId": "5353c15a-6261-4b99-dc99-4210cef35069"
      },
      "source": [
        "df.head()"
      ],
      "execution_count": 4,
      "outputs": [
        {
          "output_type": "execute_result",
          "data": {
            "text/html": [
              "<div>\n",
              "<style scoped>\n",
              "    .dataframe tbody tr th:only-of-type {\n",
              "        vertical-align: middle;\n",
              "    }\n",
              "\n",
              "    .dataframe tbody tr th {\n",
              "        vertical-align: top;\n",
              "    }\n",
              "\n",
              "    .dataframe thead th {\n",
              "        text-align: right;\n",
              "    }\n",
              "</style>\n",
              "<table border=\"1\" class=\"dataframe\">\n",
              "  <thead>\n",
              "    <tr style=\"text-align: right;\">\n",
              "      <th></th>\n",
              "      <th>ds</th>\n",
              "      <th>prcp</th>\n",
              "      <th>tmax</th>\n",
              "      <th>tmin</th>\n",
              "      <th>rain</th>\n",
              "    </tr>\n",
              "  </thead>\n",
              "  <tbody>\n",
              "    <tr>\n",
              "      <th>0</th>\n",
              "      <td>1948-01-01</td>\n",
              "      <td>0.47</td>\n",
              "      <td>51</td>\n",
              "      <td>42</td>\n",
              "      <td>True</td>\n",
              "    </tr>\n",
              "    <tr>\n",
              "      <th>1</th>\n",
              "      <td>1948-01-02</td>\n",
              "      <td>0.59</td>\n",
              "      <td>45</td>\n",
              "      <td>36</td>\n",
              "      <td>True</td>\n",
              "    </tr>\n",
              "    <tr>\n",
              "      <th>2</th>\n",
              "      <td>1948-01-03</td>\n",
              "      <td>0.42</td>\n",
              "      <td>45</td>\n",
              "      <td>35</td>\n",
              "      <td>True</td>\n",
              "    </tr>\n",
              "    <tr>\n",
              "      <th>3</th>\n",
              "      <td>1948-01-04</td>\n",
              "      <td>0.31</td>\n",
              "      <td>45</td>\n",
              "      <td>34</td>\n",
              "      <td>True</td>\n",
              "    </tr>\n",
              "    <tr>\n",
              "      <th>4</th>\n",
              "      <td>1948-01-05</td>\n",
              "      <td>0.17</td>\n",
              "      <td>45</td>\n",
              "      <td>32</td>\n",
              "      <td>True</td>\n",
              "    </tr>\n",
              "  </tbody>\n",
              "</table>\n",
              "</div>"
            ],
            "text/plain": [
              "           ds  prcp  tmax  tmin  rain\n",
              "0  1948-01-01  0.47    51    42  True\n",
              "1  1948-01-02  0.59    45    36  True\n",
              "2  1948-01-03  0.42    45    35  True\n",
              "3  1948-01-04  0.31    45    34  True\n",
              "4  1948-01-05  0.17    45    32  True"
            ]
          },
          "metadata": {
            "tags": []
          },
          "execution_count": 4
        }
      ]
    },
    {
      "cell_type": "code",
      "metadata": {
        "colab": {
          "base_uri": "https://localhost:8080/",
          "height": 197
        },
        "id": "rzFn9yzNhmIW",
        "outputId": "4afee904-f4ae-4152-987b-70b22b364b09"
      },
      "source": [
        "heuristic_df.head()"
      ],
      "execution_count": 5,
      "outputs": [
        {
          "output_type": "execute_result",
          "data": {
            "text/html": [
              "<div>\n",
              "<style scoped>\n",
              "    .dataframe tbody tr th:only-of-type {\n",
              "        vertical-align: middle;\n",
              "    }\n",
              "\n",
              "    .dataframe tbody tr th {\n",
              "        vertical-align: top;\n",
              "    }\n",
              "\n",
              "    .dataframe thead th {\n",
              "        text-align: right;\n",
              "    }\n",
              "</style>\n",
              "<table border=\"1\" class=\"dataframe\">\n",
              "  <thead>\n",
              "    <tr style=\"text-align: right;\">\n",
              "      <th></th>\n",
              "      <th>yesterday</th>\n",
              "      <th>today</th>\n",
              "      <th>tomorrow</th>\n",
              "      <th>guess</th>\n",
              "      <th>rain_tomorrow</th>\n",
              "      <th>correct</th>\n",
              "      <th>true_positive</th>\n",
              "      <th>false_positive</th>\n",
              "      <th>true_negative</th>\n",
              "      <th>false_negative</th>\n",
              "    </tr>\n",
              "  </thead>\n",
              "  <tbody>\n",
              "    <tr>\n",
              "      <th>0</th>\n",
              "      <td>0.0</td>\n",
              "      <td>0.0</td>\n",
              "      <td>0.0</td>\n",
              "      <td>False</td>\n",
              "      <td>False</td>\n",
              "      <td>False</td>\n",
              "      <td>False</td>\n",
              "      <td>False</td>\n",
              "      <td>False</td>\n",
              "      <td>False</td>\n",
              "    </tr>\n",
              "    <tr>\n",
              "      <th>1</th>\n",
              "      <td>0.0</td>\n",
              "      <td>0.0</td>\n",
              "      <td>0.0</td>\n",
              "      <td>False</td>\n",
              "      <td>False</td>\n",
              "      <td>False</td>\n",
              "      <td>False</td>\n",
              "      <td>False</td>\n",
              "      <td>False</td>\n",
              "      <td>False</td>\n",
              "    </tr>\n",
              "    <tr>\n",
              "      <th>2</th>\n",
              "      <td>0.0</td>\n",
              "      <td>0.0</td>\n",
              "      <td>0.0</td>\n",
              "      <td>False</td>\n",
              "      <td>False</td>\n",
              "      <td>False</td>\n",
              "      <td>False</td>\n",
              "      <td>False</td>\n",
              "      <td>False</td>\n",
              "      <td>False</td>\n",
              "    </tr>\n",
              "    <tr>\n",
              "      <th>3</th>\n",
              "      <td>0.0</td>\n",
              "      <td>0.0</td>\n",
              "      <td>0.0</td>\n",
              "      <td>False</td>\n",
              "      <td>False</td>\n",
              "      <td>False</td>\n",
              "      <td>False</td>\n",
              "      <td>False</td>\n",
              "      <td>False</td>\n",
              "      <td>False</td>\n",
              "    </tr>\n",
              "    <tr>\n",
              "      <th>4</th>\n",
              "      <td>0.0</td>\n",
              "      <td>0.0</td>\n",
              "      <td>0.0</td>\n",
              "      <td>False</td>\n",
              "      <td>False</td>\n",
              "      <td>False</td>\n",
              "      <td>False</td>\n",
              "      <td>False</td>\n",
              "      <td>False</td>\n",
              "      <td>False</td>\n",
              "    </tr>\n",
              "  </tbody>\n",
              "</table>\n",
              "</div>"
            ],
            "text/plain": [
              "   yesterday  today  tomorrow  ...  false_positive  true_negative  false_negative\n",
              "0        0.0    0.0       0.0  ...           False          False           False\n",
              "1        0.0    0.0       0.0  ...           False          False           False\n",
              "2        0.0    0.0       0.0  ...           False          False           False\n",
              "3        0.0    0.0       0.0  ...           False          False           False\n",
              "4        0.0    0.0       0.0  ...           False          False           False\n",
              "\n",
              "[5 rows x 10 columns]"
            ]
          },
          "metadata": {
            "tags": []
          },
          "execution_count": 5
        }
      ]
    },
    {
      "cell_type": "markdown",
      "metadata": {
        "id": "OknJec97JxgT"
      },
      "source": [
        "Build a loop to add your heuristic model guesses as a column to this dataframe"
      ]
    },
    {
      "cell_type": "code",
      "metadata": {
        "id": "tuD097kXJxgU"
      },
      "source": [
        "# fill in the prcp values into the hestorical data\r\n",
        "for i in range(len(heuristic_df)):\r\n",
        "  #first day\r\n",
        "  if i == 0:\r\n",
        "    #today \r\n",
        "    heuristic_df.iloc[i , 1] = df.iloc[i , 1]\r\n",
        "    #tomorrow\r\n",
        "    heuristic_df.iloc[i , 2] = df.iloc[i+1 , 1]\r\n",
        "    # save the actual value of rain for tomorrow inside the 'rain_tomorrow' column\r\n",
        "    heuristic_df.iloc[i , 4] = df.iloc[i+1 , 4]\r\n",
        "    \r\n",
        "  #last day  \r\n",
        "  elif i == (len(df) - 1):\r\n",
        "    #yesterday\r\n",
        "    heuristic_df.iloc[i , 0] = df.iloc[i-1 , 1]\r\n",
        "    #today \r\n",
        "    heuristic_df.iloc[i , 1] = df.iloc[i , 1]\r\n",
        "\r\n",
        "  # any day in between \r\n",
        "  else:\r\n",
        "    #yesterday\r\n",
        "    heuristic_df.iloc[i , 0] = df.iloc[i-1 , 1]\r\n",
        "    #today \r\n",
        "    heuristic_df.iloc[i , 1] = df.iloc[i , 1]\r\n",
        "    #tomorrow\r\n",
        "    heuristic_df.iloc[i , 2] = df.iloc[i+1 , 1]\r\n",
        "    # save the actual value of rain for tomorrow inside the 'rain_tomorrow' column\r\n",
        "    heuristic_df.iloc[i , 4] = df.iloc[i+1 , 4]\r\n",
        "\r\n",
        "\r\n",
        "    # if it rained yesterday and today more than 0.2 then it will rain tomorrow\r\n",
        "    if heuristic_df.iloc[i , 0] >= 0.2 and heuristic_df.iloc[i , 1] >= 0.2:\r\n",
        "      # guess == True\r\n",
        "      heuristic_df.iloc[i , 3] = True\r\n",
        "      \r\n",
        "      # if my guess matches the historical observation\r\n",
        "      if heuristic_df.iloc[i , 3] == heuristic_df.iloc[i , 4]:\r\n",
        "        # 'true_positive': #TRUE If you said it would rain and it did\r\n",
        "        heuristic_df.iloc[i , 6] = True\r\n",
        "        # my guess was correct (True in correct column)\r\n",
        "        heuristic_df.iloc[i , 5] = True\r\n",
        "\r\n",
        "      # if my guess didnt matche the historical observation\r\n",
        "      else:\r\n",
        "        # 'false_positive':#TRUE If you sait id would rain and it didn't\r\n",
        "        heuristic_df.iloc[i , 7] = True\r\n",
        "        # my guess was not correct (False in correct column)\r\n",
        "        heuristic_df.iloc[i , 5] = False\r\n",
        "      \r\n",
        "\r\n",
        "      # if it didnt rained yesterday and today more than 0.2 then it will not rain tomorrow\r\n",
        "    else:\r\n",
        "      # guess == False\r\n",
        "      heuristic_df.iloc[i , 3] = False\r\n",
        "\r\n",
        "      # if my guess matches the historical observation\r\n",
        "      if heuristic_df.iloc[i , 3] == heuristic_df.iloc[i , 4]:\r\n",
        "        # 'true_negative':#TRUE if you said it wouldn't rain and it didn't\r\n",
        "        heuristic_df.iloc[i , 8] = True\r\n",
        "        # my guess was correct (True in correct column)\r\n",
        "        heuristic_df.iloc[i , 5] = True\r\n",
        "\r\n",
        "      # if my guess didnt matche the historical observation\r\n",
        "      else:\r\n",
        "        # 'false_negative':#TRUE if you said it wouldn't rain and it did \r\n",
        "        heuristic_df.iloc[i , 9] = True\r\n",
        "        # my guess was not correct (False in correct column)\r\n",
        "        heuristic_df.iloc[i , 5] = False"
      ],
      "execution_count": 6,
      "outputs": []
    },
    {
      "cell_type": "code",
      "metadata": {
        "colab": {
          "base_uri": "https://localhost:8080/",
          "height": 405
        },
        "id": "fpBzBMEo3Pda",
        "outputId": "e6d7e5b0-8c2c-48e8-e340-804a6bd9fca4"
      },
      "source": [
        "heuristic_df"
      ],
      "execution_count": 7,
      "outputs": [
        {
          "output_type": "execute_result",
          "data": {
            "text/html": [
              "<div>\n",
              "<style scoped>\n",
              "    .dataframe tbody tr th:only-of-type {\n",
              "        vertical-align: middle;\n",
              "    }\n",
              "\n",
              "    .dataframe tbody tr th {\n",
              "        vertical-align: top;\n",
              "    }\n",
              "\n",
              "    .dataframe thead th {\n",
              "        text-align: right;\n",
              "    }\n",
              "</style>\n",
              "<table border=\"1\" class=\"dataframe\">\n",
              "  <thead>\n",
              "    <tr style=\"text-align: right;\">\n",
              "      <th></th>\n",
              "      <th>yesterday</th>\n",
              "      <th>today</th>\n",
              "      <th>tomorrow</th>\n",
              "      <th>guess</th>\n",
              "      <th>rain_tomorrow</th>\n",
              "      <th>correct</th>\n",
              "      <th>true_positive</th>\n",
              "      <th>false_positive</th>\n",
              "      <th>true_negative</th>\n",
              "      <th>false_negative</th>\n",
              "    </tr>\n",
              "  </thead>\n",
              "  <tbody>\n",
              "    <tr>\n",
              "      <th>0</th>\n",
              "      <td>0.00</td>\n",
              "      <td>0.47</td>\n",
              "      <td>0.59</td>\n",
              "      <td>False</td>\n",
              "      <td>1</td>\n",
              "      <td>False</td>\n",
              "      <td>False</td>\n",
              "      <td>False</td>\n",
              "      <td>False</td>\n",
              "      <td>False</td>\n",
              "    </tr>\n",
              "    <tr>\n",
              "      <th>1</th>\n",
              "      <td>0.47</td>\n",
              "      <td>0.59</td>\n",
              "      <td>0.42</td>\n",
              "      <td>True</td>\n",
              "      <td>1</td>\n",
              "      <td>True</td>\n",
              "      <td>True</td>\n",
              "      <td>False</td>\n",
              "      <td>False</td>\n",
              "      <td>False</td>\n",
              "    </tr>\n",
              "    <tr>\n",
              "      <th>2</th>\n",
              "      <td>0.59</td>\n",
              "      <td>0.42</td>\n",
              "      <td>0.31</td>\n",
              "      <td>True</td>\n",
              "      <td>1</td>\n",
              "      <td>True</td>\n",
              "      <td>True</td>\n",
              "      <td>False</td>\n",
              "      <td>False</td>\n",
              "      <td>False</td>\n",
              "    </tr>\n",
              "    <tr>\n",
              "      <th>3</th>\n",
              "      <td>0.42</td>\n",
              "      <td>0.31</td>\n",
              "      <td>0.17</td>\n",
              "      <td>True</td>\n",
              "      <td>1</td>\n",
              "      <td>True</td>\n",
              "      <td>True</td>\n",
              "      <td>False</td>\n",
              "      <td>False</td>\n",
              "      <td>False</td>\n",
              "    </tr>\n",
              "    <tr>\n",
              "      <th>4</th>\n",
              "      <td>0.31</td>\n",
              "      <td>0.17</td>\n",
              "      <td>0.44</td>\n",
              "      <td>False</td>\n",
              "      <td>1</td>\n",
              "      <td>False</td>\n",
              "      <td>False</td>\n",
              "      <td>False</td>\n",
              "      <td>False</td>\n",
              "      <td>True</td>\n",
              "    </tr>\n",
              "    <tr>\n",
              "      <th>...</th>\n",
              "      <td>...</td>\n",
              "      <td>...</td>\n",
              "      <td>...</td>\n",
              "      <td>...</td>\n",
              "      <td>...</td>\n",
              "      <td>...</td>\n",
              "      <td>...</td>\n",
              "      <td>...</td>\n",
              "      <td>...</td>\n",
              "      <td>...</td>\n",
              "    </tr>\n",
              "    <tr>\n",
              "      <th>25544</th>\n",
              "      <td>0.00</td>\n",
              "      <td>0.00</td>\n",
              "      <td>0.00</td>\n",
              "      <td>False</td>\n",
              "      <td>False</td>\n",
              "      <td>True</td>\n",
              "      <td>False</td>\n",
              "      <td>False</td>\n",
              "      <td>True</td>\n",
              "      <td>False</td>\n",
              "    </tr>\n",
              "    <tr>\n",
              "      <th>25545</th>\n",
              "      <td>0.00</td>\n",
              "      <td>0.00</td>\n",
              "      <td>0.00</td>\n",
              "      <td>False</td>\n",
              "      <td>False</td>\n",
              "      <td>True</td>\n",
              "      <td>False</td>\n",
              "      <td>False</td>\n",
              "      <td>True</td>\n",
              "      <td>False</td>\n",
              "    </tr>\n",
              "    <tr>\n",
              "      <th>25546</th>\n",
              "      <td>0.00</td>\n",
              "      <td>0.00</td>\n",
              "      <td>0.00</td>\n",
              "      <td>False</td>\n",
              "      <td>False</td>\n",
              "      <td>True</td>\n",
              "      <td>False</td>\n",
              "      <td>False</td>\n",
              "      <td>True</td>\n",
              "      <td>False</td>\n",
              "    </tr>\n",
              "    <tr>\n",
              "      <th>25547</th>\n",
              "      <td>0.00</td>\n",
              "      <td>0.00</td>\n",
              "      <td>0.00</td>\n",
              "      <td>False</td>\n",
              "      <td>False</td>\n",
              "      <td>True</td>\n",
              "      <td>False</td>\n",
              "      <td>False</td>\n",
              "      <td>True</td>\n",
              "      <td>False</td>\n",
              "    </tr>\n",
              "    <tr>\n",
              "      <th>25548</th>\n",
              "      <td>0.00</td>\n",
              "      <td>0.00</td>\n",
              "      <td>0.00</td>\n",
              "      <td>False</td>\n",
              "      <td>False</td>\n",
              "      <td>True</td>\n",
              "      <td>False</td>\n",
              "      <td>False</td>\n",
              "      <td>True</td>\n",
              "      <td>False</td>\n",
              "    </tr>\n",
              "  </tbody>\n",
              "</table>\n",
              "<p>25549 rows × 10 columns</p>\n",
              "</div>"
            ],
            "text/plain": [
              "       yesterday  today  ...  true_negative  false_negative\n",
              "0           0.00   0.47  ...          False           False\n",
              "1           0.47   0.59  ...          False           False\n",
              "2           0.59   0.42  ...          False           False\n",
              "3           0.42   0.31  ...          False           False\n",
              "4           0.31   0.17  ...          False            True\n",
              "...          ...    ...  ...            ...             ...\n",
              "25544       0.00   0.00  ...           True           False\n",
              "25545       0.00   0.00  ...           True           False\n",
              "25546       0.00   0.00  ...           True           False\n",
              "25547       0.00   0.00  ...           True           False\n",
              "25548       0.00   0.00  ...           True           False\n",
              "\n",
              "[25549 rows x 10 columns]"
            ]
          },
          "metadata": {
            "tags": []
          },
          "execution_count": 7
        }
      ]
    },
    {
      "cell_type": "code",
      "metadata": {
        "colab": {
          "base_uri": "https://localhost:8080/",
          "height": 405
        },
        "id": "z097730aFiYo",
        "outputId": "a254359b-3411-47f9-e793-c791e2d1a46b"
      },
      "source": [
        "df "
      ],
      "execution_count": 8,
      "outputs": [
        {
          "output_type": "execute_result",
          "data": {
            "text/html": [
              "<div>\n",
              "<style scoped>\n",
              "    .dataframe tbody tr th:only-of-type {\n",
              "        vertical-align: middle;\n",
              "    }\n",
              "\n",
              "    .dataframe tbody tr th {\n",
              "        vertical-align: top;\n",
              "    }\n",
              "\n",
              "    .dataframe thead th {\n",
              "        text-align: right;\n",
              "    }\n",
              "</style>\n",
              "<table border=\"1\" class=\"dataframe\">\n",
              "  <thead>\n",
              "    <tr style=\"text-align: right;\">\n",
              "      <th></th>\n",
              "      <th>ds</th>\n",
              "      <th>prcp</th>\n",
              "      <th>tmax</th>\n",
              "      <th>tmin</th>\n",
              "      <th>rain</th>\n",
              "    </tr>\n",
              "  </thead>\n",
              "  <tbody>\n",
              "    <tr>\n",
              "      <th>0</th>\n",
              "      <td>1948-01-01</td>\n",
              "      <td>0.47</td>\n",
              "      <td>51</td>\n",
              "      <td>42</td>\n",
              "      <td>True</td>\n",
              "    </tr>\n",
              "    <tr>\n",
              "      <th>1</th>\n",
              "      <td>1948-01-02</td>\n",
              "      <td>0.59</td>\n",
              "      <td>45</td>\n",
              "      <td>36</td>\n",
              "      <td>True</td>\n",
              "    </tr>\n",
              "    <tr>\n",
              "      <th>2</th>\n",
              "      <td>1948-01-03</td>\n",
              "      <td>0.42</td>\n",
              "      <td>45</td>\n",
              "      <td>35</td>\n",
              "      <td>True</td>\n",
              "    </tr>\n",
              "    <tr>\n",
              "      <th>3</th>\n",
              "      <td>1948-01-04</td>\n",
              "      <td>0.31</td>\n",
              "      <td>45</td>\n",
              "      <td>34</td>\n",
              "      <td>True</td>\n",
              "    </tr>\n",
              "    <tr>\n",
              "      <th>4</th>\n",
              "      <td>1948-01-05</td>\n",
              "      <td>0.17</td>\n",
              "      <td>45</td>\n",
              "      <td>32</td>\n",
              "      <td>True</td>\n",
              "    </tr>\n",
              "    <tr>\n",
              "      <th>...</th>\n",
              "      <td>...</td>\n",
              "      <td>...</td>\n",
              "      <td>...</td>\n",
              "      <td>...</td>\n",
              "      <td>...</td>\n",
              "    </tr>\n",
              "    <tr>\n",
              "      <th>25546</th>\n",
              "      <td>2017-12-10</td>\n",
              "      <td>0.00</td>\n",
              "      <td>49</td>\n",
              "      <td>34</td>\n",
              "      <td>False</td>\n",
              "    </tr>\n",
              "    <tr>\n",
              "      <th>25547</th>\n",
              "      <td>2017-12-11</td>\n",
              "      <td>0.00</td>\n",
              "      <td>49</td>\n",
              "      <td>29</td>\n",
              "      <td>False</td>\n",
              "    </tr>\n",
              "    <tr>\n",
              "      <th>25548</th>\n",
              "      <td>2017-12-12</td>\n",
              "      <td>0.00</td>\n",
              "      <td>46</td>\n",
              "      <td>32</td>\n",
              "      <td>False</td>\n",
              "    </tr>\n",
              "    <tr>\n",
              "      <th>25549</th>\n",
              "      <td>2017-12-13</td>\n",
              "      <td>0.00</td>\n",
              "      <td>48</td>\n",
              "      <td>34</td>\n",
              "      <td>False</td>\n",
              "    </tr>\n",
              "    <tr>\n",
              "      <th>25550</th>\n",
              "      <td>2017-12-14</td>\n",
              "      <td>0.00</td>\n",
              "      <td>50</td>\n",
              "      <td>36</td>\n",
              "      <td>False</td>\n",
              "    </tr>\n",
              "  </tbody>\n",
              "</table>\n",
              "<p>25551 rows × 5 columns</p>\n",
              "</div>"
            ],
            "text/plain": [
              "               ds  prcp  tmax  tmin   rain\n",
              "0      1948-01-01  0.47    51    42   True\n",
              "1      1948-01-02  0.59    45    36   True\n",
              "2      1948-01-03  0.42    45    35   True\n",
              "3      1948-01-04  0.31    45    34   True\n",
              "4      1948-01-05  0.17    45    32   True\n",
              "...           ...   ...   ...   ...    ...\n",
              "25546  2017-12-10  0.00    49    34  False\n",
              "25547  2017-12-11  0.00    49    29  False\n",
              "25548  2017-12-12  0.00    46    32  False\n",
              "25549  2017-12-13  0.00    48    34  False\n",
              "25550  2017-12-14  0.00    50    36  False\n",
              "\n",
              "[25551 rows x 5 columns]"
            ]
          },
          "metadata": {
            "tags": []
          },
          "execution_count": 8
        }
      ]
    },
    {
      "cell_type": "markdown",
      "metadata": {
        "id": "zGjWElC7JxgU"
      },
      "source": [
        "### Evaluate the performance of the Heuristic model"
      ]
    },
    {
      "cell_type": "code",
      "metadata": {
        "colab": {
          "base_uri": "https://localhost:8080/"
        },
        "id": "Ix4X8U3Pa3yn",
        "outputId": "11a5d58b-4e0a-40e6-a9a0-2ffbb3591de3"
      },
      "source": [
        "# Accuracy\r\n",
        "tp = sum(heuristic_df['true_positive'])\r\n",
        "fp = sum(heuristic_df['false_positive'])\r\n",
        "tn = sum(heuristic_df['true_negative'])\r\n",
        "fn = sum(heuristic_df['false_negative'])\r\n",
        "\r\n",
        "# calculate the accuracy using the accuracy equation\r\n",
        "accuracy = (tn + tp) / (tp+tn+fp+fn)\r\n",
        "print('Accuracy = ', accuracy)"
      ],
      "execution_count": 9,
      "outputs": [
        {
          "output_type": "stream",
          "text": [
            "Accuracy =  0.6111241584468452\n"
          ],
          "name": "stdout"
        }
      ]
    }
  ]
}