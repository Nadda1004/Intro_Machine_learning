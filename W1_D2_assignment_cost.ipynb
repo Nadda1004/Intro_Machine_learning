{
  "nbformat": 4,
  "nbformat_minor": 0,
  "metadata": {
    "colab": {
      "name": "W1_D2_assignment_cost.ipynb",
      "provenance": [],
      "collapsed_sections": [],
      "include_colab_link": true
    },
    "kernelspec": {
      "name": "python3",
      "display_name": "Python 3"
    }
  },
  "cells": [
    {
      "cell_type": "markdown",
      "metadata": {
        "id": "view-in-github",
        "colab_type": "text"
      },
      "source": [
        "<a href=\"https://colab.research.google.com/github/Nadda1004/Intro_Machine_learning/blob/main/W1_D2_assignment_cost.ipynb\" target=\"_parent\"><img src=\"https://colab.research.google.com/assets/colab-badge.svg\" alt=\"Open In Colab\"/></a>"
      ]
    },
    {
      "cell_type": "code",
      "metadata": {
        "id": "0DBsWMnDfWJN"
      },
      "source": [
        "%%capture\n",
        "# STARTER CODE - RUN THIS CELL - DO NOT CHANGE\n",
        "!pip install category_encoders\n",
        "import seaborn as sns\n",
        "import pandas as pd\n",
        "import numpy as np\n",
        "import matplotlib.pyplot as plt\n",
        "import category_encoders as ce\n",
        "from sklearn.linear_model import LinearRegression, LogisticRegression\n",
        "from sklearn.preprocessing import StandardScaler\n",
        "from sklearn.model_selection import train_test_split\n",
        "from sklearn.pipeline import make_pipeline\n",
        "from sklearn.metrics import mean_squared_error, mean_absolute_error, accuracy_score, accuracy_score, recall_score, precision_score\n",
        "df_r = sns.load_dataset(\"tips\").dropna()\n",
        "df_c = sns.load_dataset(\"titanic\").dropna()\n",
        "model_r = LinearRegression()\n",
        "model_c = LogisticRegression()\n",
        "x_train_r, x_test_r, y_train_r, y_test_r = train_test_split(df_r.drop(\"total_bill\", axis=1), df_r[\"total_bill\"])\n",
        "x_train_c, x_test_c, y_train_c, y_test_c = train_test_split(df_c.drop([\"survived\", \"alive\", \"adult_male\"], axis=1), df_c[\"survived\"])\n",
        "pipe_r = make_pipeline(ce.OrdinalEncoder(), StandardScaler(), LinearRegression()).fit(x_train_r, y_train_r)\n",
        "pipe_c = make_pipeline(ce.OrdinalEncoder(), StandardScaler(), LogisticRegression()).fit(x_train_c, y_train_c)\n",
        "y_pred_r = pipe_r.predict(x_test_r)\n",
        "y_pred_c = pipe_c.predict(x_test_c)"
      ],
      "execution_count": 1,
      "outputs": []
    },
    {
      "cell_type": "markdown",
      "metadata": {
        "id": "JA6ub2bZemNP"
      },
      "source": [
        "# Cost Functions\n",
        "\n",
        "- Without importing any libraries please write a cost function for each of the following listed below.\n",
        "- Do not refrence ANY online resources other than whats provided\n",
        "\n",
        "You can only use these resources, `pandas` and `numpy` to make your functions:\n",
        "- [Mean Squared Error](https://en.wikipedia.org/wiki/Mean_squared_error)\n",
        "- [Mean Absolute Error](https://en.wikipedia.org/wiki/Mean_absolute_error)\n",
        "- [Root Mean Squared Error](https://en.wikipedia.org/wiki/Root-mean-square_deviation)\n",
        "- [Residual Sum of Squares](https://en.wikipedia.org/wiki/Residual_sum_of_squares)\n",
        "- [Precision, Recall, Accuracy](https://en.wikipedia.org/wiki/Confusion_matrix)\n",
        "- [Scikit-Learn](https://scikit-learn.org/stable/index.html)"
      ]
    },
    {
      "cell_type": "markdown",
      "metadata": {
        "id": "39_TltPpf60I"
      },
      "source": [
        "#### Regression Cost Functions\n",
        "\n",
        "- Use `y_test_r` as your true labels\n",
        "- Use `y_pred_r` as your predicted labels"
      ]
    },
    {
      "cell_type": "markdown",
      "metadata": {
        "id": "bn3uH_KWJgwz"
      },
      "source": [
        ""
      ]
    },
    {
      "cell_type": "code",
      "metadata": {
        "id": "LgU4Ke0Cd3gw",
        "colab": {
          "base_uri": "https://localhost:8080/"
        },
        "outputId": "3b290418-c509-49fa-f031-f062f96ef566"
      },
      "source": [
        "# Create a Mean Squared Error Function\n",
        "def mse(y_true, y_pred):\n",
        "  # actual - predected\n",
        "    mse_f = (y_true - y_pred) ** 2\n",
        "    return np.mean(mse_f)\n",
        "\n",
        "mse(y_test_r, y_pred_r)"
      ],
      "execution_count": 3,
      "outputs": [
        {
          "output_type": "execute_result",
          "data": {
            "text/plain": [
              "19.326445893934054"
            ]
          },
          "metadata": {
            "tags": []
          },
          "execution_count": 3
        }
      ]
    },
    {
      "cell_type": "code",
      "metadata": {
        "id": "Eyp3WVY_tuBz",
        "colab": {
          "base_uri": "https://localhost:8080/"
        },
        "outputId": "c1d37584-b6bf-43cd-eaaa-8f346c6d7067"
      },
      "source": [
        "# Your Mean Squared Error function should equal this value\n",
        "mean_squared_error(y_test_r, y_pred_r)"
      ],
      "execution_count": 4,
      "outputs": [
        {
          "output_type": "execute_result",
          "data": {
            "text/plain": [
              "19.326445893934054"
            ]
          },
          "metadata": {
            "tags": []
          },
          "execution_count": 4
        }
      ]
    },
    {
      "cell_type": "code",
      "metadata": {
        "id": "n-B-pkxtfAtI",
        "colab": {
          "base_uri": "https://localhost:8080/"
        },
        "outputId": "6a73bac2-f7ac-41c7-bcd5-69004fc50a4b"
      },
      "source": [
        "# Create a Mean Absolute Error Function\n",
        "def mae(y_true, y_pred):\n",
        "    return np.mean(abs(y_true - y_pred))\n",
        "\n",
        "mae(y_test_r, y_pred_r)"
      ],
      "execution_count": 5,
      "outputs": [
        {
          "output_type": "execute_result",
          "data": {
            "text/plain": [
              "3.3508878957049237"
            ]
          },
          "metadata": {
            "tags": []
          },
          "execution_count": 5
        }
      ]
    },
    {
      "cell_type": "code",
      "metadata": {
        "id": "8ZzkyvrSuCkc",
        "colab": {
          "base_uri": "https://localhost:8080/"
        },
        "outputId": "f64353a8-f250-4b9c-e71f-8b6a90290f8a"
      },
      "source": [
        "# Your Mean Absolute Error function should equal this value\n",
        "mean_absolute_error(y_test_r, y_pred_r)"
      ],
      "execution_count": 6,
      "outputs": [
        {
          "output_type": "execute_result",
          "data": {
            "text/plain": [
              "3.350887895704924"
            ]
          },
          "metadata": {
            "tags": []
          },
          "execution_count": 6
        }
      ]
    },
    {
      "cell_type": "code",
      "metadata": {
        "id": "w4nobsDJfk4L",
        "colab": {
          "base_uri": "https://localhost:8080/"
        },
        "outputId": "851717c8-9b2c-4adf-e4a0-6a99a6afae06"
      },
      "source": [
        "# Create a Root Mean Squared Error Function\n",
        "def rmse(y_true, y_pred):\n",
        "    return np.sqrt(np.mean((y_true - y_pred) ** 2))\n",
        "\n",
        "rmse(y_test_r, y_pred_r)"
      ],
      "execution_count": 9,
      "outputs": [
        {
          "output_type": "execute_result",
          "data": {
            "text/plain": [
              "4.396185379841716"
            ]
          },
          "metadata": {
            "tags": []
          },
          "execution_count": 9
        }
      ]
    },
    {
      "cell_type": "code",
      "metadata": {
        "id": "WswkpQCruRyb",
        "colab": {
          "base_uri": "https://localhost:8080/"
        },
        "outputId": "e3943f68-e9d0-4736-ff14-3521ad89adb5"
      },
      "source": [
        "# Your Root Mean Squared Error function should equal this value\n",
        "mean_squared_error(y_test_r, y_pred_r, squared=False)"
      ],
      "execution_count": 8,
      "outputs": [
        {
          "output_type": "execute_result",
          "data": {
            "text/plain": [
              "4.396185379841716"
            ]
          },
          "metadata": {
            "tags": []
          },
          "execution_count": 8
        }
      ]
    },
    {
      "cell_type": "code",
      "metadata": {
        "id": "RcuwEx9qd_hq",
        "colab": {
          "base_uri": "https://localhost:8080/"
        },
        "outputId": "3b50ff7b-add6-4f4f-fc1c-0c0b8f7dfc63"
      },
      "source": [
        "# Create a Sum of Squared Error Function\n",
        "def rss(y_true, y_pred):\n",
        "    return sum((y_true - y_pred) ** 2)\n",
        "\n",
        "rss(y_test_r, y_pred_r)"
      ],
      "execution_count": 12,
      "outputs": [
        {
          "output_type": "execute_result",
          "data": {
            "text/plain": [
              "1178.9131995299772"
            ]
          },
          "metadata": {
            "tags": []
          },
          "execution_count": 12
        }
      ]
    },
    {
      "cell_type": "markdown",
      "metadata": {
        "id": "fYpJ2jdYf-Et"
      },
      "source": [
        "#### Classification Cost Functions\n",
        "\n",
        "- Use `y_test_c` as your true labels\n",
        "- Use `y_pred_c` as your predicted labels"
      ]
    },
    {
      "cell_type": "code",
      "metadata": {
        "colab": {
          "base_uri": "https://localhost:8080/"
        },
        "id": "svEKXZLxPtww",
        "outputId": "be8d537f-c1c9-4f53-dee2-358ded1534f7"
      },
      "source": [
        "y_pred_c "
      ],
      "execution_count": 13,
      "outputs": [
        {
          "output_type": "execute_result",
          "data": {
            "text/plain": [
              "array([1, 0, 1, 1, 0, 1, 1, 1, 0, 0, 1, 1, 0, 0, 0, 0, 1, 1, 0, 1, 1, 0,\n",
              "       1, 1, 0, 1, 1, 1, 1, 0, 0, 1, 1, 1, 1, 0, 1, 1, 1, 0, 1, 1, 1, 1,\n",
              "       1, 0])"
            ]
          },
          "metadata": {
            "tags": []
          },
          "execution_count": 13
        }
      ]
    },
    {
      "cell_type": "code",
      "metadata": {
        "colab": {
          "base_uri": "https://localhost:8080/"
        },
        "id": "-Cv9UFHmSCdW",
        "outputId": "3818ff82-ec45-4796-b946-905efa6438ce"
      },
      "source": [
        "y_test_c_1 = np.array(y_test_c)\r\n",
        "y_test_c_1"
      ],
      "execution_count": 38,
      "outputs": [
        {
          "output_type": "execute_result",
          "data": {
            "text/plain": [
              "array([1, 1, 1, 0, 1, 1, 1, 1, 1, 0, 1, 1, 0, 0, 0, 1, 1, 1, 0, 0, 1, 0,\n",
              "       1, 1, 0, 0, 1, 0, 1, 1, 0, 1, 0, 1, 0, 0, 1, 1, 1, 1, 1, 1, 1, 0,\n",
              "       1, 0])"
            ]
          },
          "metadata": {
            "tags": []
          },
          "execution_count": 38
        }
      ]
    },
    {
      "cell_type": "code",
      "metadata": {
        "id": "aipG_B_7h3yI",
        "colab": {
          "base_uri": "https://localhost:8080/"
        },
        "outputId": "8fdc7161-8016-4591-d13f-33f8391c8c85"
      },
      "source": [
        "# Replace None with the correct value value\n",
        "true_positive = 0\n",
        "true_negative = 0\n",
        "false_positive = 0\n",
        "false_negative = 0\n",
        "\n",
        "# Write a loop to identify true positives, false negatives, false positives, and true negatives\n",
        "for i in range(len(y_pred_c)):\n",
        "  \n",
        "  # True -- Positive \n",
        "  if y_pred_c[i] == 1:\n",
        "    if y_pred_c[i] == y_test_c_1[i]:\n",
        "      # if my predection was true and the actual value is true\n",
        "      true_positive += 1\n",
        "    else:\n",
        "      # if my predection was true and the actual value is false\n",
        "      false_positive += 1\n",
        "\n",
        "  # False -- Negative \n",
        "  else:\n",
        "    if y_pred_c[i] == y_test_c_1[i]:\n",
        "      # if my predection was false and the actual value is false\n",
        "      true_negative += 1\n",
        "    else:\n",
        "      # if my predection was false and the actual value is true\n",
        "      false_negative += 1\n",
        "\n",
        "\n",
        "# Uncomment below when your loop works to see totals of each\n",
        "print(f\"True Positives: {true_positive}\\nTrue Negatives: {true_negative}\\nFalse Positives: {false_positive}\\nFalse Negatives: {false_negative}\")"
      ],
      "execution_count": 41,
      "outputs": [
        {
          "output_type": "stream",
          "text": [
            "True Positives: 23\n",
            "True Negatives: 10\n",
            "False Positives: 7\n",
            "False Negatives: 6\n"
          ],
          "name": "stdout"
        }
      ]
    },
    {
      "cell_type": "code",
      "metadata": {
        "id": "Q3Ctlw2heCig",
        "colab": {
          "base_uri": "https://localhost:8080/"
        },
        "outputId": "23ec5aaf-7d52-4524-affe-af9ff06ff059"
      },
      "source": [
        "# Create A Function to Calculate Precision\n",
        "def precision(TP, FP):\n",
        "    return TP / (TP+FP) \n",
        "\n",
        "precision(true_positive, false_positive)"
      ],
      "execution_count": 42,
      "outputs": [
        {
          "output_type": "execute_result",
          "data": {
            "text/plain": [
              "0.7666666666666667"
            ]
          },
          "metadata": {
            "tags": []
          },
          "execution_count": 42
        }
      ]
    },
    {
      "cell_type": "code",
      "metadata": {
        "id": "UpzJxKZJqz9S",
        "colab": {
          "base_uri": "https://localhost:8080/"
        },
        "outputId": "bbc6b88f-5913-43db-ca4b-9c33bbacf4ef"
      },
      "source": [
        "# Your precision function should equal this value\n",
        "precision_score(y_test_c, y_pred_c)"
      ],
      "execution_count": 43,
      "outputs": [
        {
          "output_type": "execute_result",
          "data": {
            "text/plain": [
              "0.7666666666666667"
            ]
          },
          "metadata": {
            "tags": []
          },
          "execution_count": 43
        }
      ]
    },
    {
      "cell_type": "code",
      "metadata": {
        "id": "rAX5khvCedHC",
        "colab": {
          "base_uri": "https://localhost:8080/"
        },
        "outputId": "90d8237a-ec0b-4b27-91f7-7e100d94540f"
      },
      "source": [
        "# Create A Function to Calculate Recall\n",
        "def recall(TP, FN):\n",
        "    return TP / (TP+FN)\n",
        "\n",
        "recall(true_positive, false_negative)"
      ],
      "execution_count": 44,
      "outputs": [
        {
          "output_type": "execute_result",
          "data": {
            "text/plain": [
              "0.7931034482758621"
            ]
          },
          "metadata": {
            "tags": []
          },
          "execution_count": 44
        }
      ]
    },
    {
      "cell_type": "code",
      "metadata": {
        "id": "sPin2Q9Zqk-X",
        "colab": {
          "base_uri": "https://localhost:8080/"
        },
        "outputId": "0c2c51d6-9081-4962-bf09-7e783f6b543b"
      },
      "source": [
        "# Your recall function should equal this value\n",
        "recall_score(y_test_c, y_pred_c)"
      ],
      "execution_count": 45,
      "outputs": [
        {
          "output_type": "execute_result",
          "data": {
            "text/plain": [
              "0.7931034482758621"
            ]
          },
          "metadata": {
            "tags": []
          },
          "execution_count": 45
        }
      ]
    },
    {
      "cell_type": "code",
      "metadata": {
        "id": "RQ8YleBTegvn",
        "colab": {
          "base_uri": "https://localhost:8080/"
        },
        "outputId": "a14f678a-69c2-47dd-d4e6-d8c13d3f77df"
      },
      "source": [
        "# Create a Function to Calculate Accuracy\n",
        "def accuracy(TP, FP, TN, FN):\n",
        "    return (TN + TP) / (TP+TN+FP+FN)\n",
        "\n",
        "accuracy(true_positive, false_positive, true_negative, false_negative)"
      ],
      "execution_count": 46,
      "outputs": [
        {
          "output_type": "execute_result",
          "data": {
            "text/plain": [
              "0.717391304347826"
            ]
          },
          "metadata": {
            "tags": []
          },
          "execution_count": 46
        }
      ]
    },
    {
      "cell_type": "code",
      "metadata": {
        "id": "tzNMG0PmqSkn",
        "colab": {
          "base_uri": "https://localhost:8080/"
        },
        "outputId": "e710adee-f684-43ca-c16f-bc8f2277de57"
      },
      "source": [
        "# Your accuracy score function should equal this value\n",
        "accuracy_score(y_test_c, y_pred_c)"
      ],
      "execution_count": 47,
      "outputs": [
        {
          "output_type": "execute_result",
          "data": {
            "text/plain": [
              "0.717391304347826"
            ]
          },
          "metadata": {
            "tags": []
          },
          "execution_count": 47
        }
      ]
    }
  ]
}